{
 "cells": [
  {
   "cell_type": "code",
   "execution_count": 122,
   "id": "151cce83-047b-42af-af95-5c1e9e672187",
   "metadata": {
    "scrolled": true
   },
   "outputs": [
    {
     "name": "stdout",
     "output_type": "stream",
     "text": [
      "\n",
      "\u001b[1m[\u001b[0m\u001b[34;49mnotice\u001b[0m\u001b[1;39;49m]\u001b[0m\u001b[39;49m A new release of pip is available: \u001b[0m\u001b[31;49m24.0\u001b[0m\u001b[39;49m -> \u001b[0m\u001b[32;49m25.0.1\u001b[0m\n",
      "\u001b[1m[\u001b[0m\u001b[34;49mnotice\u001b[0m\u001b[1;39;49m]\u001b[0m\u001b[39;49m To update, run: \u001b[0m\u001b[32;49mpython3.10 -m pip install --upgrade pip\u001b[0m\n"
     ]
    }
   ],
   "source": [
    "!pip install torch torchaudio soundfile seaborn seaborn_image lightning fvcore tensorboard -q"
   ]
  },
  {
   "cell_type": "markdown",
   "id": "9f87d2ea-78e8-4bc4-a393-3a80681f0143",
   "metadata": {},
   "source": [
    "## Data load"
   ]
  },
  {
   "cell_type": "code",
   "execution_count": 25,
   "id": "dcb9dfec-8309-4c94-9827-c0cfe2f25b60",
   "metadata": {},
   "outputs": [
    {
     "data": {
      "text/plain": [
       "device(type='cuda')"
      ]
     },
     "execution_count": 25,
     "metadata": {},
     "output_type": "execute_result"
    }
   ],
   "source": [
    "import os\n",
    "import torch\n",
    "import torchaudio\n",
    "\n",
    "import numpy as np\n",
    "import pandas as pd\n",
    "import seaborn as sns\n",
    "import seaborn_image as isns\n",
    "import matplotlib.pyplot as plt\n",
    "\n",
    "\n",
    "device = torch.device(\"cuda\" if torch.cuda.is_available() else \"cpu\")\n",
    "device"
   ]
  },
  {
   "cell_type": "code",
   "execution_count": 2,
   "id": "ef7de226-0187-4c8a-9b60-bafc82295054",
   "metadata": {},
   "outputs": [
    {
     "data": {
      "text/plain": [
       "(torch.Size([1, 16000]),\n",
       " tensor([[ 0.0003, -0.0003,  0.0002,  ...,  0.0006,  0.0006,  0.0006]]))"
      ]
     },
     "execution_count": 2,
     "metadata": {},
     "output_type": "execute_result"
    }
   ],
   "source": [
    "from torchaudio.datasets import SPEECHCOMMANDS\n",
    "\n",
    "\n",
    "data = SPEECHCOMMANDS(root=\"data\", download=True)\n",
    "path = 'data/SpeechCommands/speech_commands_v0.02/visual/0d6d7360_nohash_2.wav'\n",
    "signal, sr = torchaudio.load(path)\n",
    "\n",
    "signal.shape, signal"
   ]
  },
  {
   "cell_type": "code",
   "execution_count": 3,
   "id": "ae89ca72-ac2a-4420-b13e-e454287ff2b8",
   "metadata": {},
   "outputs": [
    {
     "data": {
      "text/plain": [
       "<Axes: >"
      ]
     },
     "execution_count": 3,
     "metadata": {},
     "output_type": "execute_result"
    },
    {
     "data": {
      "image/png": "[encoded data removed]",
      "text/plain": [
       "<Figure size 640x480 with 1 Axes>"
      ]
     },
     "metadata": {},
     "output_type": "display_data"
    }
   ],
   "source": [
    "sns.lineplot(data[1][0].t())"
   ]
  },
  {
   "cell_type": "markdown",
   "id": "7ed8a75b-6863-4d6e-8925-b5b27e4e2578",
   "metadata": {},
   "source": [
    "As we can see, each data sample is a waveform"
   ]
  },
  {
   "cell_type": "markdown",
   "id": "de65a405-69b3-4591-86cf-3a35d723629c",
   "metadata": {},
   "source": [
    "## LogMelFilterBanks"
   ]
  },
  {
   "cell_type": "code",
   "execution_count": 4,
   "id": "2f65b2ae-ac1f-41a5-8832-be44fa4e3376",
   "metadata": {},
   "outputs": [],
   "source": [
    "from typing import Optional\n",
    "\n",
    "from torch import nn\n",
    "from torchaudio import functional as F\n",
    "\n",
    "\n",
    "\n",
    "class LogMelFilterBanks(nn.Module):\n",
    "    def __init__(\n",
    "            self,\n",
    "            n_fft: int = 400,\n",
    "            samplerate: int = 16000,\n",
    "            hop_length: int = 160,\n",
    "            n_mels: int = 80,\n",
    "            pad_mode: str = 'reflect',\n",
    "            power: float = 2.0,\n",
    "            normalize_stft: bool = False,\n",
    "            onesided: bool = True,\n",
    "            center: bool = True,\n",
    "            return_complex: bool = True,\n",
    "            f_min_hz: float = 0.0,\n",
    "            f_max_hz: Optional[float] = None,\n",
    "            norm_mel: Optional[str] = None,\n",
    "            mel_scale: str = 'htk',\n",
    "            device: torch.device = torch.device(\"cpu\")\n",
    "    ):\n",
    "        super(LogMelFilterBanks, self).__init__()\n",
    "        self.device = device\n",
    "        # general params and params defined by the exercise\n",
    "        self.n_fft = n_fft\n",
    "        self.samplerate = samplerate\n",
    "        self.window_length = n_fft\n",
    "        self.window = torch.hann_window(self.window_length).to(self.device)\n",
    "        # Do correct initialization of stft params below:\n",
    "        # hop_length, n_mels, center, return_complex, onesided, normalize_stft, pad_mode, power\n",
    "        # ...\n",
    "        # <YOUR CODE GOES HERE>\n",
    "        self.hop_length = hop_length if hop_length is not None else self.window_length // 2\n",
    "        self.n_mels = n_mels\n",
    "        self.center = center\n",
    "        self.return_complex = return_complex\n",
    "        self.onesided = onesided\n",
    "        self.normalize_stft = normalize_stft\n",
    "        self.pad_mode = pad_mode\n",
    "        self.power = power\n",
    "        # Do correct initialization of mel fbanks params below:\n",
    "        # f_min_hz, f_max_hz, norm_mel, mel_scale\n",
    "        self.f_min_hz = f_min_hz\n",
    "        self.f_max_hz = f_max_hz if f_max_hz else float(self.samplerate // 2.0)\n",
    "        self.norm_mel = norm_mel if norm_mel else \"slaney\"\n",
    "        self.mel_scale = mel_scale\n",
    "        self.mel_fbanks = self._init_melscale_fbanks()\n",
    "\n",
    "    def _init_melscale_fbanks(self):\n",
    "        # To access attributes, use self.<parameter_name>\n",
    "        return F.melscale_fbanks(\n",
    "            n_freqs=int(self.n_fft // 2 + 1),\n",
    "            f_min=self.f_min_hz,\n",
    "            f_max=self.f_max_hz,\n",
    "            n_mels=self.n_mels,\n",
    "            sample_rate=self.samplerate,\n",
    "            mel_scale=self.mel_scale\n",
    "        )\n",
    "\n",
    "    def spectrogram(self, waveform: torch.Tensor):\n",
    "        # x - is an input signal\n",
    "        return torch.stft(\n",
    "            input=waveform,\n",
    "            n_fft=self.n_fft,\n",
    "            hop_length=self.hop_length,\n",
    "            win_length=self.window_length,\n",
    "            window=self.window,\n",
    "            pad_mode=self.pad_mode,\n",
    "            center=self.center,\n",
    "            normalized=self.normalize_stft,\n",
    "            onesided=self.onesided,\n",
    "            return_complex=self.return_complex,\n",
    "        )\n",
    "\n",
    "    def forward(self, waveform: torch.Tensor):\n",
    "        \"\"\"\n",
    "        Args:\n",
    "            x (Torch.Tensor): Tensor of audio of dimension (batch, time), audiosignal\n",
    "        Returns:\n",
    "            Torch.Tensor: Tensor of log mel filterbanks of dimension (batch, n_mels, n_frames),\n",
    "                where n_frames is a function of the window_length, hop_length and length of audio\n",
    "        \"\"\"\n",
    "        specgram = self.spectrogram(waveform.to(self.device))\n",
    "        specgram = specgram.abs().pow(self.power)\n",
    "\n",
    "        mel_specgram = specgram.transpose(-1, -2) @ self.mel_fbanks.to(self.device)\n",
    "        log_mel_specgram = torch.log(mel_specgram + 1e-6)\n",
    "\n",
    "        return log_mel_specgram.transpose(1, 2)"
   ]
  },
  {
   "cell_type": "code",
   "execution_count": 5,
   "id": "88984a93-7c1c-454e-8510-435f576fbd49",
   "metadata": {
    "scrolled": true
   },
   "outputs": [],
   "source": [
    "melspec = torchaudio.transforms.MelSpectrogram(hop_length=160, n_mels=80)(signal)\n",
    "logmelbanks = LogMelFilterBanks(device=\"cpu\")(signal)\n",
    "\n",
    "assert torch.log(melspec + 1e-6).shape == logmelbanks.shape\n",
    "assert torch.allclose(torch.log(melspec + 1e-6), logmelbanks.cpu())"
   ]
  },
  {
   "cell_type": "code",
   "execution_count": 6,
   "id": "da8e9902-6efb-4e8a-8036-bc6b5de9f747",
   "metadata": {},
   "outputs": [
    {
     "data": {
      "text/plain": [
       "torch.Size([1, 80, 101])"
      ]
     },
     "execution_count": 6,
     "metadata": {},
     "output_type": "execute_result"
    }
   ],
   "source": [
    "logmelbanks.shape"
   ]
  },
  {
   "cell_type": "code",
   "execution_count": 7,
   "id": "10977487-5563-4126-8f65-01857359eafa",
   "metadata": {},
   "outputs": [
    {
     "data": {
      "image/png": "[encoded data removed]",
      "text/plain": [
       "<Figure size 2000x1000 with 2 Axes>"
      ]
     },
     "metadata": {},
     "output_type": "display_data"
    }
   ],
   "source": [
    "fig, axes = plt.subplots(1, 2, figsize=(20, 10))\n",
    "\n",
    "axes[0].set_title('Torchaudio MelSpectrogram')\n",
    "axes[0].imshow(torch.log(melspec[0] + 1e-6).cpu().numpy(), cmap='rocket')\n",
    "axes[0].set_xlabel('Time (frames)')\n",
    "axes[0].set_ylabel('Mel Frequency Bands')\n",
    "\n",
    "axes[1].set_title('MelSpectrogram')\n",
    "axes[1].imshow(logmelbanks[0].cpu().numpy(), cmap='rocket')\n",
    "axes[1].set_xlabel('Time (frames)')\n",
    "axes[1].set_ylabel('Mel Frequency Bands')\n",
    "\n",
    "fig.show()"
   ]
  },
  {
   "cell_type": "markdown",
   "id": "c3bf8adf-3e26-4d8e-b3f7-099bf97af133",
   "metadata": {},
   "source": [
    "The spectrograms are identical"
   ]
  },
  {
   "cell_type": "markdown",
   "id": "5a45c5bf-7afc-47b6-aa50-1d40d7a67262",
   "metadata": {},
   "source": [
    "## Dataset preparation"
   ]
  },
  {
   "cell_type": "code",
   "execution_count": 8,
   "id": "78668b62-a942-477d-8ec1-a7fe2c1de783",
   "metadata": {},
   "outputs": [
    {
     "data": {
      "text/plain": [
       "(6358, 803, 824)"
      ]
     },
     "execution_count": 8,
     "metadata": {},
     "output_type": "execute_result"
    }
   ],
   "source": [
    "train = SPEECHCOMMANDS(root=\"data\", subset=\"training\")\n",
    "val = SPEECHCOMMANDS(root=\"data\", subset=\"validation\")\n",
    "test = SPEECHCOMMANDS(root=\"data\", subset=\"testing\")\n",
    "\n",
    "train = [train_sample for train_sample in train if train_sample[2] in [\"yes\", \"no\"]]\n",
    "val = [val_sample for val_sample in val if val_sample[2] in [\"yes\", \"no\"]]\n",
    "test = [test_sample for test_sample in test if test_sample[2] in [\"yes\", \"no\"]]\n",
    "\n",
    "\n",
    "len(train), len(val), len(test)"
   ]
  },
  {
   "cell_type": "code",
   "execution_count": 9,
   "id": "e6504984-0e14-468d-ae0b-7063adc15359",
   "metadata": {},
   "outputs": [],
   "source": [
    "def collate_fn(batch):\n",
    "    waveforms, labels = [], []\n",
    "\n",
    "    for waveform, label in batch:\n",
    "        waveforms += [waveform]\n",
    "        labels += [torch.tensor(label)]\n",
    "\n",
    "    tensors = [waveform.t() for waveform in waveforms]\n",
    "    padded_tensors = torch.nn.utils.rnn.pad_sequence(tensors, batch_first=True, padding_value=0.)\n",
    "    labels = torch.stack(labels)\n",
    "\n",
    "    return padded_tensors, labels"
   ]
  },
  {
   "cell_type": "code",
   "execution_count": 10,
   "id": "ebe0b3ad-8f76-45d5-9b28-6840df9eabce",
   "metadata": {},
   "outputs": [],
   "source": [
    "from torch.utils.data import DataLoader, random_split, Dataset\n",
    "\n",
    "\n",
    "class SpeechDataset(Dataset):\n",
    "    def __init__(self, data):\n",
    "        self.data = data\n",
    "        self.label_map = {\"yes\": 0, \"no\": 1}\n",
    "\n",
    "    def __len__(self):\n",
    "        return len(self.data)\n",
    "\n",
    "    def __getitem__(self, idx):\n",
    "        waveform, _, label, _, _ = self.data[idx]\n",
    "        waveform = waveform.squeeze(0)\n",
    "        label = self.label_map[label]\n",
    "\n",
    "        return waveform, label\n",
    "\n",
    "\n",
    "train_dataset = SpeechDataset(train)\n",
    "val_dataset = SpeechDataset(val)\n",
    "test_dataset = SpeechDataset(test)\n",
    "\n",
    "train_loader = DataLoader(train_dataset, batch_size=32, shuffle=True, collate_fn=collate_fn)\n",
    "val_loader = DataLoader(val_dataset, batch_size=32, shuffle=False, collate_fn=collate_fn)\n",
    "test_loader = DataLoader(test_dataset, batch_size=32, shuffle=False, collate_fn=collate_fn)"
   ]
  },
  {
   "cell_type": "code",
   "execution_count": 11,
   "id": "50b95f01-1208-4765-a04d-85e368096720",
   "metadata": {},
   "outputs": [
    {
     "data": {
      "text/plain": [
       "torch.Size([1, 16000])"
      ]
     },
     "execution_count": 11,
     "metadata": {},
     "output_type": "execute_result"
    }
   ],
   "source": [
    "signal = train_dataset[3][0]\n",
    "signal = signal.unsqueeze(0)\n",
    "\n",
    "signal.shape"
   ]
  },
  {
   "cell_type": "code",
   "execution_count": 12,
   "id": "091782da-eca6-439a-8837-4d6ba92b668d",
   "metadata": {},
   "outputs": [
    {
     "data": {
      "text/plain": [
       "torch.Size([1, 80, 101])"
      ]
     },
     "execution_count": 12,
     "metadata": {},
     "output_type": "execute_result"
    }
   ],
   "source": [
    "logmel = LogMelFilterBanks(device=device)(signal)\n",
    "\n",
    "logmel.shape"
   ]
  },
  {
   "cell_type": "markdown",
   "id": "3b369fef-bce7-475e-96bd-03b13883fd28",
   "metadata": {},
   "source": [
    "## model configuration"
   ]
  },
  {
   "cell_type": "code",
   "execution_count": 79,
   "id": "0fb1eac9-3c2a-4653-94a9-dfb69f7959d6",
   "metadata": {},
   "outputs": [],
   "source": [
    "import time\n",
    "import pytorch_lightning as pl\n",
    "\n",
    "from torchmetrics.functional import accuracy\n",
    "from fvcore.nn import FlopCountAnalysis\n",
    "\n",
    "\n",
    "\n",
    "class CNN(nn.Module):\n",
    "    def __init__(self, n_mels: int, num_classes: int, groups: int = 2):\n",
    "        super().__init__()\n",
    "        self.model = nn.Sequential(\n",
    "            nn.Conv1d(in_channels=n_mels, out_channels=32, kernel_size=3, groups=groups),\n",
    "            nn.BatchNorm1d(32),\n",
    "            nn.ReLU(),\n",
    "\n",
    "            nn.Conv1d(in_channels=32, out_channels=16, kernel_size=3, groups=groups),\n",
    "            nn.BatchNorm1d(16),\n",
    "            nn.ReLU(),\n",
    "            nn.MaxPool1d(kernel_size=4),\n",
    "\n",
    "            nn.Conv1d(in_channels=16, out_channels=8, kernel_size=3, groups=groups),\n",
    "            nn.BatchNorm1d(8),\n",
    "            nn.ReLU(),\n",
    "            nn.MaxPool1d(kernel_size=4),\n",
    "\n",
    "            nn.Flatten(),\n",
    "            nn.Linear(40, num_classes)\n",
    "        )\n",
    "\n",
    "    def forward(self, x):\n",
    "        x = self.model(x)\n",
    "        return x\n",
    "\n",
    "\n",
    "class ClassifierModel(pl.LightningModule):\n",
    "    def __init__(self, n_mels: int, num_classes: int, groups: int = 2, learning_rate: float = 1e-3):\n",
    "        super().__init__()\n",
    "        self.save_hyperparameters()\n",
    "\n",
    "        self.feature_extractor = LogMelFilterBanks(device=device, n_mels=n_mels)\n",
    "        self.model = CNN(n_mels=n_mels, num_classes=num_classes, groups=groups)\n",
    "        self.criterion = nn.CrossEntropyLoss()\n",
    "\n",
    "    def on_train_epoch_start(self):\n",
    "        self.train_epoch_start_time = time.time()\n",
    "\n",
    "    def on_train_epoch_end(self):\n",
    "        epoch_time = time.time() - self.train_epoch_start_time\n",
    "        self.log(\"epoch_time\", epoch_time)\n",
    "\n",
    "    def forward(self, x):\n",
    "        features = self.feature_extractor(x)\n",
    "        return self.model(features)\n",
    "\n",
    "    def training_step(self, batch, batch_idx):\n",
    "        x, y = batch\n",
    "        logits = self.forward(x)\n",
    "        loss = self.criterion(logits, y)\n",
    "        self.log(\"train_loss\", loss)\n",
    "\n",
    "        return loss\n",
    "\n",
    "    def validation_step(self, batch, batch_idx):\n",
    "        x, y = batch\n",
    "        logits = self.forward(x)\n",
    "        loss = self.criterion(logits, y)\n",
    "        preds = torch.argmax(logits, dim=1)\n",
    "\n",
    "        acc = accuracy(preds, y, task=\"multiclass\", num_classes=self.hparams.num_classes)\n",
    "        self.log(\"val_loss\", loss)\n",
    "        self.log(\"val_acc\", acc)\n",
    "\n",
    "        return acc\n",
    "\n",
    "    def test_step(self, batch, batch_idx):\n",
    "        x, y = batch\n",
    "        logits = self.forward(x)\n",
    "        preds = torch.argmax(logits, dim=1)\n",
    "\n",
    "        acc = accuracy(preds, y, task=\"multiclass\", num_classes=self.hparams.num_classes)\n",
    "        self.log(\"test_acc\", acc)\n",
    "        self.compute_flops()\n",
    "\n",
    "        return acc\n",
    "\n",
    "    def configure_optimizers(self):\n",
    "        optimizer = torch.optim.AdamW(\n",
    "            self.parameters(),\n",
    "            lr=self.hparams.learning_rate,\n",
    "            weight_decay=1e-4\n",
    "        )\n",
    "        scheduler = torch.optim.lr_scheduler.CosineAnnealingLR(\n",
    "            optimizer,\n",
    "            T_max=10,\n",
    "            eta_min=1e-6\n",
    "        )\n",
    "        return [optimizer], [scheduler]\n",
    "\n",
    "    def compute_flops(self, input_size: tuple = (1, 16000)):\n",
    "        dummy_input = torch.randn(*input_size)\n",
    "        features = model.feature_extractor(dummy_input.to('cuda:0'))\n",
    "\n",
    "        flops = FlopCountAnalysis(model.model, features).total()\n",
    "        self.log(\"flops\", flops)"
   ]
  },
  {
   "cell_type": "markdown",
   "id": "4cea9b4f-8312-4f0c-ba55-e66ea57a4434",
   "metadata": {},
   "source": [
    "## n_mels experiments"
   ]
  },
  {
   "cell_type": "code",
   "execution_count": 94,
   "id": "caf55998-ab37-4d74-bd44-cae323aa5868",
   "metadata": {
    "scrolled": true
   },
   "outputs": [
    {
     "name": "stderr",
     "output_type": "stream",
     "text": [
      "You are using the plain ModelCheckpoint callback. Consider using LitModelCheckpoint which with seamless uploading to Model registry.\n",
      "GPU available: True (cuda), used: True\n",
      "TPU available: False, using: 0 TPU cores\n",
      "HPU available: False, using: 0 HPUs\n",
      "/home/mlcore/conda/lib/python3.10/site-packages/pytorch_lightning/callbacks/model_checkpoint.py:654: Checkpoint directory /workdir/search-ml-airflow-29/dags/suggests/llm/sp/lightning_logs/version_0/checkpoints exists and is not empty.\n",
      "LOCAL_RANK: 0 - CUDA_VISIBLE_DEVICES: [0]\n",
      "\n",
      "  | Name              | Type              | Params | Mode \n",
      "----------------------------------------------------------------\n",
      "0 | feature_extractor | LogMelFilterBanks | 0      | train\n",
      "1 | model             | CNN               | 2.2 K  | train\n",
      "2 | criterion         | CrossEntropyLoss  | 0      | train\n",
      "----------------------------------------------------------------\n",
      "2.2 K     Trainable params\n",
      "0         Non-trainable params\n",
      "2.2 K     Total params\n",
      "0.009     Total estimated model params size (MB)\n",
      "17        Modules in train mode\n",
      "0         Modules in eval mode\n"
     ]
    },
    {
     "data": {
      "application/vnd.jupyter.widget-view+json": {
       "model_id": "796446de4cc4426084ec753ac91f8c41",
       "version_major": 2,
       "version_minor": 0
      },
      "text/plain": [
       "Sanity Checking: |          | 0/? [00:00<?, ?it/s]"
      ]
     },
     "metadata": {},
     "output_type": "display_data"
    },
    {
     "name": "stderr",
     "output_type": "stream",
     "text": [
      "/home/mlcore/conda/lib/python3.10/site-packages/pytorch_lightning/trainer/connectors/data_connector.py:425: The 'val_dataloader' does not have many workers which may be a bottleneck. Consider increasing the value of the `num_workers` argument` to `num_workers=13` in the `DataLoader` to improve performance.\n",
      "/home/mlcore/conda/lib/python3.10/site-packages/pytorch_lightning/trainer/connectors/data_connector.py:425: The 'train_dataloader' does not have many workers which may be a bottleneck. Consider increasing the value of the `num_workers` argument` to `num_workers=13` in the `DataLoader` to improve performance.\n"
     ]
    },
    {
     "data": {
      "application/vnd.jupyter.widget-view+json": {
       "model_id": "50f53806768e449094a05b88e8de6502",
       "version_major": 2,
       "version_minor": 0
      },
      "text/plain": [
       "Training: |          | 0/? [00:00<?, ?it/s]"
      ]
     },
     "metadata": {},
     "output_type": "display_data"
    },
    {
     "data": {
      "application/vnd.jupyter.widget-view+json": {
       "model_id": "16e7245f678f42d093320aa8690f7da1",
       "version_major": 2,
       "version_minor": 0
      },
      "text/plain": [
       "Validation: |          | 0/? [00:00<?, ?it/s]"
      ]
     },
     "metadata": {},
     "output_type": "display_data"
    },
    {
     "data": {
      "application/vnd.jupyter.widget-view+json": {
       "model_id": "7cfc969947344a01862e95e7dc76bbb2",
       "version_major": 2,
       "version_minor": 0
      },
      "text/plain": [
       "Validation: |          | 0/? [00:00<?, ?it/s]"
      ]
     },
     "metadata": {},
     "output_type": "display_data"
    },
    {
     "data": {
      "application/vnd.jupyter.widget-view+json": {
       "model_id": "dbef31f444354feaaa11c9aa7c14cc55",
       "version_major": 2,
       "version_minor": 0
      },
      "text/plain": [
       "Validation: |          | 0/? [00:00<?, ?it/s]"
      ]
     },
     "metadata": {},
     "output_type": "display_data"
    },
    {
     "data": {
      "application/vnd.jupyter.widget-view+json": {
       "model_id": "61bdb22b37614cfc91bcaa523982e8d0",
       "version_major": 2,
       "version_minor": 0
      },
      "text/plain": [
       "Validation: |          | 0/? [00:00<?, ?it/s]"
      ]
     },
     "metadata": {},
     "output_type": "display_data"
    },
    {
     "data": {
      "application/vnd.jupyter.widget-view+json": {
       "model_id": "fc544cece26e40449c505897e277c041",
       "version_major": 2,
       "version_minor": 0
      },
      "text/plain": [
       "Validation: |          | 0/? [00:00<?, ?it/s]"
      ]
     },
     "metadata": {},
     "output_type": "display_data"
    },
    {
     "data": {
      "application/vnd.jupyter.widget-view+json": {
       "model_id": "379d1c96f6104714b292b84d43763c56",
       "version_major": 2,
       "version_minor": 0
      },
      "text/plain": [
       "Validation: |          | 0/? [00:00<?, ?it/s]"
      ]
     },
     "metadata": {},
     "output_type": "display_data"
    },
    {
     "data": {
      "application/vnd.jupyter.widget-view+json": {
       "model_id": "09960c76f3eb4f7b80f299b9e66a42ff",
       "version_major": 2,
       "version_minor": 0
      },
      "text/plain": [
       "Validation: |          | 0/? [00:00<?, ?it/s]"
      ]
     },
     "metadata": {},
     "output_type": "display_data"
    },
    {
     "data": {
      "application/vnd.jupyter.widget-view+json": {
       "model_id": "a2d7c05a74ca4586afe53d0d51d8edc5",
       "version_major": 2,
       "version_minor": 0
      },
      "text/plain": [
       "Validation: |          | 0/? [00:00<?, ?it/s]"
      ]
     },
     "metadata": {},
     "output_type": "display_data"
    },
    {
     "data": {
      "application/vnd.jupyter.widget-view+json": {
       "model_id": "4387a9caaaa344fa96983f057d03509c",
       "version_major": 2,
       "version_minor": 0
      },
      "text/plain": [
       "Validation: |          | 0/? [00:00<?, ?it/s]"
      ]
     },
     "metadata": {},
     "output_type": "display_data"
    },
    {
     "data": {
      "application/vnd.jupyter.widget-view+json": {
       "model_id": "7c13cf3eea7c44eb99b5c2ab6fc9e4e0",
       "version_major": 2,
       "version_minor": 0
      },
      "text/plain": [
       "Validation: |          | 0/? [00:00<?, ?it/s]"
      ]
     },
     "metadata": {},
     "output_type": "display_data"
    },
    {
     "name": "stderr",
     "output_type": "stream",
     "text": [
      "`Trainer.fit` stopped: `max_epochs=10` reached.\n",
      "/home/mlcore/conda/lib/python3.10/site-packages/pytorch_lightning/trainer/connectors/checkpoint_connector.py:149: `.test(ckpt_path=None)` was called without a model. The best model of the previous `fit` call will be used. You can pass `.test(ckpt_path='best')` to use the best model or `.test(ckpt_path='last')` to use the last model. If you pass a value, this warning will be silenced.\n",
      "Restoring states from the checkpoint path at /workdir/search-ml-airflow-29/dags/suggests/llm/sp/lightning_logs/version_0/checkpoints/epoch=9-step=1990-v7.ckpt\n",
      "LOCAL_RANK: 0 - CUDA_VISIBLE_DEVICES: [0]\n",
      "Loaded model weights from the checkpoint at /workdir/search-ml-airflow-29/dags/suggests/llm/sp/lightning_logs/version_0/checkpoints/epoch=9-step=1990-v7.ckpt\n",
      "/home/mlcore/conda/lib/python3.10/site-packages/pytorch_lightning/trainer/connectors/data_connector.py:425: The 'test_dataloader' does not have many workers which may be a bottleneck. Consider increasing the value of the `num_workers` argument` to `num_workers=13` in the `DataLoader` to improve performance.\n"
     ]
    },
    {
     "data": {
      "application/vnd.jupyter.widget-view+json": {
       "model_id": "303953734c584704ada497424832d99b",
       "version_major": 2,
       "version_minor": 0
      },
      "text/plain": [
       "Testing: |          | 0/? [00:00<?, ?it/s]"
      ]
     },
     "metadata": {},
     "output_type": "display_data"
    },
    {
     "name": "stderr",
     "output_type": "stream",
     "text": [
      "Unsupported operator aten::max_pool1d encountered 2 time(s)\n",
      "Unsupported operator aten::max_pool1d encountered 2 time(s)\n",
      "Unsupported operator aten::max_pool1d encountered 2 time(s)\n",
      "Unsupported operator aten::max_pool1d encountered 2 time(s)\n",
      "Unsupported operator aten::max_pool1d encountered 2 time(s)\n",
      "Unsupported operator aten::max_pool1d encountered 2 time(s)\n",
      "Unsupported operator aten::max_pool1d encountered 2 time(s)\n",
      "Unsupported operator aten::max_pool1d encountered 2 time(s)\n",
      "Unsupported operator aten::max_pool1d encountered 2 time(s)\n",
      "Unsupported operator aten::max_pool1d encountered 2 time(s)\n",
      "Unsupported operator aten::max_pool1d encountered 2 time(s)\n",
      "Unsupported operator aten::max_pool1d encountered 2 time(s)\n",
      "Unsupported operator aten::max_pool1d encountered 2 time(s)\n",
      "Unsupported operator aten::max_pool1d encountered 2 time(s)\n",
      "Unsupported operator aten::max_pool1d encountered 2 time(s)\n",
      "Unsupported operator aten::max_pool1d encountered 2 time(s)\n",
      "Unsupported operator aten::max_pool1d encountered 2 time(s)\n",
      "Unsupported operator aten::max_pool1d encountered 2 time(s)\n",
      "Unsupported operator aten::max_pool1d encountered 2 time(s)\n",
      "Unsupported operator aten::max_pool1d encountered 2 time(s)\n",
      "Unsupported operator aten::max_pool1d encountered 2 time(s)\n",
      "Unsupported operator aten::max_pool1d encountered 2 time(s)\n",
      "Unsupported operator aten::max_pool1d encountered 2 time(s)\n",
      "Unsupported operator aten::max_pool1d encountered 2 time(s)\n",
      "Unsupported operator aten::max_pool1d encountered 2 time(s)\n",
      "Unsupported operator aten::max_pool1d encountered 2 time(s)\n",
      "You are using the plain ModelCheckpoint callback. Consider using LitModelCheckpoint which with seamless uploading to Model registry.\n",
      "GPU available: True (cuda), used: True\n",
      "TPU available: False, using: 0 TPU cores\n",
      "HPU available: False, using: 0 HPUs\n",
      "/home/mlcore/conda/lib/python3.10/site-packages/pytorch_lightning/callbacks/model_checkpoint.py:654: Checkpoint directory /workdir/search-ml-airflow-29/dags/suggests/llm/sp/lightning_logs/version_1/checkpoints exists and is not empty.\n",
      "LOCAL_RANK: 0 - CUDA_VISIBLE_DEVICES: [0]\n",
      "\n",
      "  | Name              | Type              | Params | Mode \n",
      "----------------------------------------------------------------\n",
      "0 | feature_extractor | LogMelFilterBanks | 0      | train\n",
      "1 | model             | CNN               | 3.1 K  | train\n",
      "2 | criterion         | CrossEntropyLoss  | 0      | train\n",
      "----------------------------------------------------------------\n",
      "3.1 K     Trainable params\n",
      "0         Non-trainable params\n",
      "3.1 K     Total params\n",
      "0.013     Total estimated model params size (MB)\n",
      "17        Modules in train mode\n",
      "0         Modules in eval mode\n"
     ]
    },
    {
     "name": "stdout",
     "output_type": "stream",
     "text": [
      "────────────────────────────────────────────────────────────────────────────────────────────────────────────────────────\n",
      "       Test metric             DataLoader 0\n",
      "────────────────────────────────────────────────────────────────────────────────────────────────────────────────────────\n",
      "          flops                  183632.0\n",
      "        test_acc             0.969660222530365\n",
      "────────────────────────────────────────────────────────────────────────────────────────────────────────────────────────\n",
      "avg epoch time: 1.3472756326198578\n"
     ]
    },
    {
     "data": {
      "application/vnd.jupyter.widget-view+json": {
       "model_id": "9e0b44280afe40949a6148041ef14b1c",
       "version_major": 2,
       "version_minor": 0
      },
      "text/plain": [
       "Sanity Checking: |          | 0/? [00:00<?, ?it/s]"
      ]
     },
     "metadata": {},
     "output_type": "display_data"
    },
    {
     "name": "stderr",
     "output_type": "stream",
     "text": [
      "/home/mlcore/conda/lib/python3.10/site-packages/pytorch_lightning/trainer/connectors/data_connector.py:425: The 'val_dataloader' does not have many workers which may be a bottleneck. Consider increasing the value of the `num_workers` argument` to `num_workers=13` in the `DataLoader` to improve performance.\n",
      "/home/mlcore/conda/lib/python3.10/site-packages/pytorch_lightning/trainer/connectors/data_connector.py:425: The 'train_dataloader' does not have many workers which may be a bottleneck. Consider increasing the value of the `num_workers` argument` to `num_workers=13` in the `DataLoader` to improve performance.\n"
     ]
    },
    {
     "data": {
      "application/vnd.jupyter.widget-view+json": {
       "model_id": "9769ffd71ac64d009c7e72f2f86a88fa",
       "version_major": 2,
       "version_minor": 0
      },
      "text/plain": [
       "Training: |          | 0/? [00:00<?, ?it/s]"
      ]
     },
     "metadata": {},
     "output_type": "display_data"
    },
    {
     "data": {
      "application/vnd.jupyter.widget-view+json": {
       "model_id": "abee3d63b8234f3b92db619da1541e3a",
       "version_major": 2,
       "version_minor": 0
      },
      "text/plain": [
       "Validation: |          | 0/? [00:00<?, ?it/s]"
      ]
     },
     "metadata": {},
     "output_type": "display_data"
    },
    {
     "data": {
      "application/vnd.jupyter.widget-view+json": {
       "model_id": "cfee2ea7c43b4311bef32e8929f195e6",
       "version_major": 2,
       "version_minor": 0
      },
      "text/plain": [
       "Validation: |          | 0/? [00:00<?, ?it/s]"
      ]
     },
     "metadata": {},
     "output_type": "display_data"
    },
    {
     "data": {
      "application/vnd.jupyter.widget-view+json": {
       "model_id": "9887a05e442c4d1abcf2873270f74849",
       "version_major": 2,
       "version_minor": 0
      },
      "text/plain": [
       "Validation: |          | 0/? [00:00<?, ?it/s]"
      ]
     },
     "metadata": {},
     "output_type": "display_data"
    },
    {
     "data": {
      "application/vnd.jupyter.widget-view+json": {
       "model_id": "c3b92c97e3e14a0eb13ec8e65e6f0c1d",
       "version_major": 2,
       "version_minor": 0
      },
      "text/plain": [
       "Validation: |          | 0/? [00:00<?, ?it/s]"
      ]
     },
     "metadata": {},
     "output_type": "display_data"
    },
    {
     "data": {
      "application/vnd.jupyter.widget-view+json": {
       "model_id": "14d68bce9c42449fb55a5b03d70a0a92",
       "version_major": 2,
       "version_minor": 0
      },
      "text/plain": [
       "Validation: |          | 0/? [00:00<?, ?it/s]"
      ]
     },
     "metadata": {},
     "output_type": "display_data"
    },
    {
     "data": {
      "application/vnd.jupyter.widget-view+json": {
       "model_id": "dae9ec695e72445e960cc64f00a1850b",
       "version_major": 2,
       "version_minor": 0
      },
      "text/plain": [
       "Validation: |          | 0/? [00:00<?, ?it/s]"
      ]
     },
     "metadata": {},
     "output_type": "display_data"
    },
    {
     "data": {
      "application/vnd.jupyter.widget-view+json": {
       "model_id": "1afe27e87bfc4afd948e594cc7222bad",
       "version_major": 2,
       "version_minor": 0
      },
      "text/plain": [
       "Validation: |          | 0/? [00:00<?, ?it/s]"
      ]
     },
     "metadata": {},
     "output_type": "display_data"
    },
    {
     "data": {
      "application/vnd.jupyter.widget-view+json": {
       "model_id": "312c8450f02d4220a2724061f2c6e309",
       "version_major": 2,
       "version_minor": 0
      },
      "text/plain": [
       "Validation: |          | 0/? [00:00<?, ?it/s]"
      ]
     },
     "metadata": {},
     "output_type": "display_data"
    },
    {
     "data": {
      "application/vnd.jupyter.widget-view+json": {
       "model_id": "a9296468337244808737996267e866b3",
       "version_major": 2,
       "version_minor": 0
      },
      "text/plain": [
       "Validation: |          | 0/? [00:00<?, ?it/s]"
      ]
     },
     "metadata": {},
     "output_type": "display_data"
    },
    {
     "data": {
      "application/vnd.jupyter.widget-view+json": {
       "model_id": "1928fa2e2c784ab1aec78e0cf1d1bdb4",
       "version_major": 2,
       "version_minor": 0
      },
      "text/plain": [
       "Validation: |          | 0/? [00:00<?, ?it/s]"
      ]
     },
     "metadata": {},
     "output_type": "display_data"
    },
    {
     "name": "stderr",
     "output_type": "stream",
     "text": [
      "`Trainer.fit` stopped: `max_epochs=10` reached.\n",
      "/home/mlcore/conda/lib/python3.10/site-packages/pytorch_lightning/trainer/connectors/checkpoint_connector.py:149: `.test(ckpt_path=None)` was called without a model. The best model of the previous `fit` call will be used. You can pass `.test(ckpt_path='best')` to use the best model or `.test(ckpt_path='last')` to use the last model. If you pass a value, this warning will be silenced.\n",
      "Restoring states from the checkpoint path at /workdir/search-ml-airflow-29/dags/suggests/llm/sp/lightning_logs/version_1/checkpoints/epoch=9-step=1990-v8.ckpt\n",
      "LOCAL_RANK: 0 - CUDA_VISIBLE_DEVICES: [0]\n",
      "Loaded model weights from the checkpoint at /workdir/search-ml-airflow-29/dags/suggests/llm/sp/lightning_logs/version_1/checkpoints/epoch=9-step=1990-v8.ckpt\n",
      "/home/mlcore/conda/lib/python3.10/site-packages/pytorch_lightning/trainer/connectors/data_connector.py:425: The 'test_dataloader' does not have many workers which may be a bottleneck. Consider increasing the value of the `num_workers` argument` to `num_workers=13` in the `DataLoader` to improve performance.\n"
     ]
    },
    {
     "data": {
      "application/vnd.jupyter.widget-view+json": {
       "model_id": "9d3856928ee64d75951f28a0bb69b5cb",
       "version_major": 2,
       "version_minor": 0
      },
      "text/plain": [
       "Testing: |          | 0/? [00:00<?, ?it/s]"
      ]
     },
     "metadata": {},
     "output_type": "display_data"
    },
    {
     "name": "stderr",
     "output_type": "stream",
     "text": [
      "Unsupported operator aten::max_pool1d encountered 2 time(s)\n",
      "Unsupported operator aten::max_pool1d encountered 2 time(s)\n",
      "Unsupported operator aten::max_pool1d encountered 2 time(s)\n",
      "Unsupported operator aten::max_pool1d encountered 2 time(s)\n",
      "Unsupported operator aten::max_pool1d encountered 2 time(s)\n",
      "Unsupported operator aten::max_pool1d encountered 2 time(s)\n",
      "Unsupported operator aten::max_pool1d encountered 2 time(s)\n",
      "Unsupported operator aten::max_pool1d encountered 2 time(s)\n",
      "Unsupported operator aten::max_pool1d encountered 2 time(s)\n",
      "Unsupported operator aten::max_pool1d encountered 2 time(s)\n",
      "Unsupported operator aten::max_pool1d encountered 2 time(s)\n",
      "Unsupported operator aten::max_pool1d encountered 2 time(s)\n",
      "Unsupported operator aten::max_pool1d encountered 2 time(s)\n",
      "Unsupported operator aten::max_pool1d encountered 2 time(s)\n",
      "Unsupported operator aten::max_pool1d encountered 2 time(s)\n",
      "Unsupported operator aten::max_pool1d encountered 2 time(s)\n",
      "Unsupported operator aten::max_pool1d encountered 2 time(s)\n",
      "Unsupported operator aten::max_pool1d encountered 2 time(s)\n",
      "Unsupported operator aten::max_pool1d encountered 2 time(s)\n",
      "Unsupported operator aten::max_pool1d encountered 2 time(s)\n",
      "Unsupported operator aten::max_pool1d encountered 2 time(s)\n",
      "Unsupported operator aten::max_pool1d encountered 2 time(s)\n",
      "Unsupported operator aten::max_pool1d encountered 2 time(s)\n",
      "Unsupported operator aten::max_pool1d encountered 2 time(s)\n",
      "Unsupported operator aten::max_pool1d encountered 2 time(s)\n",
      "Unsupported operator aten::max_pool1d encountered 2 time(s)\n",
      "You are using the plain ModelCheckpoint callback. Consider using LitModelCheckpoint which with seamless uploading to Model registry.\n",
      "GPU available: True (cuda), used: True\n",
      "TPU available: False, using: 0 TPU cores\n",
      "HPU available: False, using: 0 HPUs\n",
      "/home/mlcore/conda/lib/python3.10/site-packages/pytorch_lightning/callbacks/model_checkpoint.py:654: Checkpoint directory /workdir/search-ml-airflow-29/dags/suggests/llm/sp/lightning_logs/version_2/checkpoints exists and is not empty.\n",
      "LOCAL_RANK: 0 - CUDA_VISIBLE_DEVICES: [0]\n",
      "\n",
      "  | Name              | Type              | Params | Mode \n",
      "----------------------------------------------------------------\n",
      "0 | feature_extractor | LogMelFilterBanks | 0      | train\n",
      "1 | model             | CNN               | 4.1 K  | train\n",
      "2 | criterion         | CrossEntropyLoss  | 0      | train\n",
      "----------------------------------------------------------------\n",
      "4.1 K     Trainable params\n",
      "0         Non-trainable params\n",
      "4.1 K     Total params\n",
      "0.016     Total estimated model params size (MB)\n",
      "17        Modules in train mode\n",
      "0         Modules in eval mode\n"
     ]
    },
    {
     "name": "stdout",
     "output_type": "stream",
     "text": [
      "────────────────────────────────────────────────────────────────────────────────────────────────────────────────────────\n",
      "       Test metric             DataLoader 0\n",
      "────────────────────────────────────────────────────────────────────────────────────────────────────────────────────────\n",
      "          flops                  278672.0\n",
      "        test_acc            0.9720873832702637\n",
      "────────────────────────────────────────────────────────────────────────────────────────────────────────────────────────\n",
      "avg epoch time: 1.3686761670642429\n"
     ]
    },
    {
     "data": {
      "application/vnd.jupyter.widget-view+json": {
       "model_id": "81467fc95e3749419a707a0c82fabc57",
       "version_major": 2,
       "version_minor": 0
      },
      "text/plain": [
       "Sanity Checking: |          | 0/? [00:00<?, ?it/s]"
      ]
     },
     "metadata": {},
     "output_type": "display_data"
    },
    {
     "name": "stderr",
     "output_type": "stream",
     "text": [
      "/home/mlcore/conda/lib/python3.10/site-packages/pytorch_lightning/trainer/connectors/data_connector.py:425: The 'val_dataloader' does not have many workers which may be a bottleneck. Consider increasing the value of the `num_workers` argument` to `num_workers=13` in the `DataLoader` to improve performance.\n",
      "/home/mlcore/conda/lib/python3.10/site-packages/pytorch_lightning/trainer/connectors/data_connector.py:425: The 'train_dataloader' does not have many workers which may be a bottleneck. Consider increasing the value of the `num_workers` argument` to `num_workers=13` in the `DataLoader` to improve performance.\n"
     ]
    },
    {
     "data": {
      "application/vnd.jupyter.widget-view+json": {
       "model_id": "959aa3e0b191454582cbcfb3b6451b05",
       "version_major": 2,
       "version_minor": 0
      },
      "text/plain": [
       "Training: |          | 0/? [00:00<?, ?it/s]"
      ]
     },
     "metadata": {},
     "output_type": "display_data"
    },
    {
     "data": {
      "application/vnd.jupyter.widget-view+json": {
       "model_id": "88a36f944d5748ccbda7c0493c5ba4dd",
       "version_major": 2,
       "version_minor": 0
      },
      "text/plain": [
       "Validation: |          | 0/? [00:00<?, ?it/s]"
      ]
     },
     "metadata": {},
     "output_type": "display_data"
    },
    {
     "data": {
      "application/vnd.jupyter.widget-view+json": {
       "model_id": "9c9c8363130b4d41877f1179b6a64e6a",
       "version_major": 2,
       "version_minor": 0
      },
      "text/plain": [
       "Validation: |          | 0/? [00:00<?, ?it/s]"
      ]
     },
     "metadata": {},
     "output_type": "display_data"
    },
    {
     "data": {
      "application/vnd.jupyter.widget-view+json": {
       "model_id": "eef8a694b86e488abb1496380b2a3213",
       "version_major": 2,
       "version_minor": 0
      },
      "text/plain": [
       "Validation: |          | 0/? [00:00<?, ?it/s]"
      ]
     },
     "metadata": {},
     "output_type": "display_data"
    },
    {
     "data": {
      "application/vnd.jupyter.widget-view+json": {
       "model_id": "e1e121d88f0a42699f37b8740c41b2d0",
       "version_major": 2,
       "version_minor": 0
      },
      "text/plain": [
       "Validation: |          | 0/? [00:00<?, ?it/s]"
      ]
     },
     "metadata": {},
     "output_type": "display_data"
    },
    {
     "data": {
      "application/vnd.jupyter.widget-view+json": {
       "model_id": "1ae9063a999442d4b287612d068f5f26",
       "version_major": 2,
       "version_minor": 0
      },
      "text/plain": [
       "Validation: |          | 0/? [00:00<?, ?it/s]"
      ]
     },
     "metadata": {},
     "output_type": "display_data"
    },
    {
     "data": {
      "application/vnd.jupyter.widget-view+json": {
       "model_id": "8ad61165a3c14ef99afd46dbc243000c",
       "version_major": 2,
       "version_minor": 0
      },
      "text/plain": [
       "Validation: |          | 0/? [00:00<?, ?it/s]"
      ]
     },
     "metadata": {},
     "output_type": "display_data"
    },
    {
     "data": {
      "application/vnd.jupyter.widget-view+json": {
       "model_id": "c3a8cb864a7d46a28efb1fc3b017f64c",
       "version_major": 2,
       "version_minor": 0
      },
      "text/plain": [
       "Validation: |          | 0/? [00:00<?, ?it/s]"
      ]
     },
     "metadata": {},
     "output_type": "display_data"
    },
    {
     "data": {
      "application/vnd.jupyter.widget-view+json": {
       "model_id": "d741c25e90bb42638c65f4286969e227",
       "version_major": 2,
       "version_minor": 0
      },
      "text/plain": [
       "Validation: |          | 0/? [00:00<?, ?it/s]"
      ]
     },
     "metadata": {},
     "output_type": "display_data"
    },
    {
     "data": {
      "application/vnd.jupyter.widget-view+json": {
       "model_id": "d8803f6b441943ad890c64292010fd5a",
       "version_major": 2,
       "version_minor": 0
      },
      "text/plain": [
       "Validation: |          | 0/? [00:00<?, ?it/s]"
      ]
     },
     "metadata": {},
     "output_type": "display_data"
    },
    {
     "data": {
      "application/vnd.jupyter.widget-view+json": {
       "model_id": "e92da089cfde42cca366786eea1c2da5",
       "version_major": 2,
       "version_minor": 0
      },
      "text/plain": [
       "Validation: |          | 0/? [00:00<?, ?it/s]"
      ]
     },
     "metadata": {},
     "output_type": "display_data"
    },
    {
     "name": "stderr",
     "output_type": "stream",
     "text": [
      "`Trainer.fit` stopped: `max_epochs=10` reached.\n",
      "/home/mlcore/conda/lib/python3.10/site-packages/pytorch_lightning/trainer/connectors/checkpoint_connector.py:149: `.test(ckpt_path=None)` was called without a model. The best model of the previous `fit` call will be used. You can pass `.test(ckpt_path='best')` to use the best model or `.test(ckpt_path='last')` to use the last model. If you pass a value, this warning will be silenced.\n",
      "Restoring states from the checkpoint path at /workdir/search-ml-airflow-29/dags/suggests/llm/sp/lightning_logs/version_2/checkpoints/epoch=9-step=1990-v7.ckpt\n",
      "LOCAL_RANK: 0 - CUDA_VISIBLE_DEVICES: [0]\n",
      "Loaded model weights from the checkpoint at /workdir/search-ml-airflow-29/dags/suggests/llm/sp/lightning_logs/version_2/checkpoints/epoch=9-step=1990-v7.ckpt\n",
      "/home/mlcore/conda/lib/python3.10/site-packages/pytorch_lightning/trainer/connectors/data_connector.py:425: The 'test_dataloader' does not have many workers which may be a bottleneck. Consider increasing the value of the `num_workers` argument` to `num_workers=13` in the `DataLoader` to improve performance.\n"
     ]
    },
    {
     "data": {
      "application/vnd.jupyter.widget-view+json": {
       "model_id": "ad89b5a5aaa14c18b88de224ef748b49",
       "version_major": 2,
       "version_minor": 0
      },
      "text/plain": [
       "Testing: |          | 0/? [00:00<?, ?it/s]"
      ]
     },
     "metadata": {},
     "output_type": "display_data"
    },
    {
     "name": "stderr",
     "output_type": "stream",
     "text": [
      "Unsupported operator aten::max_pool1d encountered 2 time(s)\n",
      "Unsupported operator aten::max_pool1d encountered 2 time(s)\n",
      "Unsupported operator aten::max_pool1d encountered 2 time(s)\n",
      "Unsupported operator aten::max_pool1d encountered 2 time(s)\n",
      "Unsupported operator aten::max_pool1d encountered 2 time(s)\n",
      "Unsupported operator aten::max_pool1d encountered 2 time(s)\n",
      "Unsupported operator aten::max_pool1d encountered 2 time(s)\n",
      "Unsupported operator aten::max_pool1d encountered 2 time(s)\n",
      "Unsupported operator aten::max_pool1d encountered 2 time(s)\n",
      "Unsupported operator aten::max_pool1d encountered 2 time(s)\n",
      "Unsupported operator aten::max_pool1d encountered 2 time(s)\n",
      "Unsupported operator aten::max_pool1d encountered 2 time(s)\n",
      "Unsupported operator aten::max_pool1d encountered 2 time(s)\n",
      "Unsupported operator aten::max_pool1d encountered 2 time(s)\n",
      "Unsupported operator aten::max_pool1d encountered 2 time(s)\n",
      "Unsupported operator aten::max_pool1d encountered 2 time(s)\n",
      "Unsupported operator aten::max_pool1d encountered 2 time(s)\n",
      "Unsupported operator aten::max_pool1d encountered 2 time(s)\n",
      "Unsupported operator aten::max_pool1d encountered 2 time(s)\n",
      "Unsupported operator aten::max_pool1d encountered 2 time(s)\n",
      "Unsupported operator aten::max_pool1d encountered 2 time(s)\n",
      "Unsupported operator aten::max_pool1d encountered 2 time(s)\n",
      "Unsupported operator aten::max_pool1d encountered 2 time(s)\n",
      "Unsupported operator aten::max_pool1d encountered 2 time(s)\n",
      "Unsupported operator aten::max_pool1d encountered 2 time(s)\n",
      "Unsupported operator aten::max_pool1d encountered 2 time(s)\n",
      "You are using the plain ModelCheckpoint callback. Consider using LitModelCheckpoint which with seamless uploading to Model registry.\n",
      "GPU available: True (cuda), used: True\n",
      "TPU available: False, using: 0 TPU cores\n",
      "HPU available: False, using: 0 HPUs\n",
      "/home/mlcore/conda/lib/python3.10/site-packages/pytorch_lightning/callbacks/model_checkpoint.py:654: Checkpoint directory /workdir/search-ml-airflow-29/dags/suggests/llm/sp/lightning_logs/version_3/checkpoints exists and is not empty.\n",
      "LOCAL_RANK: 0 - CUDA_VISIBLE_DEVICES: [0]\n",
      "\n",
      "  | Name              | Type              | Params | Mode \n",
      "----------------------------------------------------------------\n",
      "0 | feature_extractor | LogMelFilterBanks | 0      | train\n",
      "1 | model             | CNN               | 5.0 K  | train\n",
      "2 | criterion         | CrossEntropyLoss  | 0      | train\n",
      "----------------------------------------------------------------\n",
      "5.0 K     Trainable params\n",
      "0         Non-trainable params\n",
      "5.0 K     Total params\n",
      "0.020     Total estimated model params size (MB)\n",
      "17        Modules in train mode\n",
      "0         Modules in eval mode\n"
     ]
    },
    {
     "name": "stdout",
     "output_type": "stream",
     "text": [
      "────────────────────────────────────────────────────────────────────────────────────────────────────────────────────────\n",
      "       Test metric             DataLoader 0\n",
      "────────────────────────────────────────────────────────────────────────────────────────────────────────────────────────\n",
      "          flops                  373712.0\n",
      "        test_acc             0.958737850189209\n",
      "────────────────────────────────────────────────────────────────────────────────────────────────────────────────────────\n",
      "avg epoch time: 1.3599490493535995\n"
     ]
    },
    {
     "data": {
      "application/vnd.jupyter.widget-view+json": {
       "model_id": "7240a26272ec4fc6b039297ea3546d0e",
       "version_major": 2,
       "version_minor": 0
      },
      "text/plain": [
       "Sanity Checking: |          | 0/? [00:00<?, ?it/s]"
      ]
     },
     "metadata": {},
     "output_type": "display_data"
    },
    {
     "name": "stderr",
     "output_type": "stream",
     "text": [
      "/home/mlcore/conda/lib/python3.10/site-packages/pytorch_lightning/trainer/connectors/data_connector.py:425: The 'val_dataloader' does not have many workers which may be a bottleneck. Consider increasing the value of the `num_workers` argument` to `num_workers=13` in the `DataLoader` to improve performance.\n",
      "/home/mlcore/conda/lib/python3.10/site-packages/pytorch_lightning/trainer/connectors/data_connector.py:425: The 'train_dataloader' does not have many workers which may be a bottleneck. Consider increasing the value of the `num_workers` argument` to `num_workers=13` in the `DataLoader` to improve performance.\n"
     ]
    },
    {
     "data": {
      "application/vnd.jupyter.widget-view+json": {
       "model_id": "a2d1f1b3180e41538b886e4981d8da82",
       "version_major": 2,
       "version_minor": 0
      },
      "text/plain": [
       "Training: |          | 0/? [00:00<?, ?it/s]"
      ]
     },
     "metadata": {},
     "output_type": "display_data"
    },
    {
     "data": {
      "application/vnd.jupyter.widget-view+json": {
       "model_id": "cac2f2272d7d43db968173443b64c58e",
       "version_major": 2,
       "version_minor": 0
      },
      "text/plain": [
       "Validation: |          | 0/? [00:00<?, ?it/s]"
      ]
     },
     "metadata": {},
     "output_type": "display_data"
    },
    {
     "data": {
      "application/vnd.jupyter.widget-view+json": {
       "model_id": "cde4dff7101c4c0598407570788fccec",
       "version_major": 2,
       "version_minor": 0
      },
      "text/plain": [
       "Validation: |          | 0/? [00:00<?, ?it/s]"
      ]
     },
     "metadata": {},
     "output_type": "display_data"
    },
    {
     "data": {
      "application/vnd.jupyter.widget-view+json": {
       "model_id": "7fd89e3ca1884015be7b64f8356cd613",
       "version_major": 2,
       "version_minor": 0
      },
      "text/plain": [
       "Validation: |          | 0/? [00:00<?, ?it/s]"
      ]
     },
     "metadata": {},
     "output_type": "display_data"
    },
    {
     "data": {
      "application/vnd.jupyter.widget-view+json": {
       "model_id": "3c5f184ded404d0580bb4c51339eff54",
       "version_major": 2,
       "version_minor": 0
      },
      "text/plain": [
       "Validation: |          | 0/? [00:00<?, ?it/s]"
      ]
     },
     "metadata": {},
     "output_type": "display_data"
    },
    {
     "data": {
      "application/vnd.jupyter.widget-view+json": {
       "model_id": "f443fc0931d34722b0b86e2590a090f0",
       "version_major": 2,
       "version_minor": 0
      },
      "text/plain": [
       "Validation: |          | 0/? [00:00<?, ?it/s]"
      ]
     },
     "metadata": {},
     "output_type": "display_data"
    },
    {
     "data": {
      "application/vnd.jupyter.widget-view+json": {
       "model_id": "68ea53d4289446d885b8f9e201203f29",
       "version_major": 2,
       "version_minor": 0
      },
      "text/plain": [
       "Validation: |          | 0/? [00:00<?, ?it/s]"
      ]
     },
     "metadata": {},
     "output_type": "display_data"
    },
    {
     "data": {
      "application/vnd.jupyter.widget-view+json": {
       "model_id": "a03e2394fea640b6aa2fd9897769c454",
       "version_major": 2,
       "version_minor": 0
      },
      "text/plain": [
       "Validation: |          | 0/? [00:00<?, ?it/s]"
      ]
     },
     "metadata": {},
     "output_type": "display_data"
    },
    {
     "data": {
      "application/vnd.jupyter.widget-view+json": {
       "model_id": "7b6fc80a2c354ccc8651e59aa2c4a7ac",
       "version_major": 2,
       "version_minor": 0
      },
      "text/plain": [
       "Validation: |          | 0/? [00:00<?, ?it/s]"
      ]
     },
     "metadata": {},
     "output_type": "display_data"
    },
    {
     "data": {
      "application/vnd.jupyter.widget-view+json": {
       "model_id": "f1526525f23444b9a15e6df725f9c9ff",
       "version_major": 2,
       "version_minor": 0
      },
      "text/plain": [
       "Validation: |          | 0/? [00:00<?, ?it/s]"
      ]
     },
     "metadata": {},
     "output_type": "display_data"
    },
    {
     "data": {
      "application/vnd.jupyter.widget-view+json": {
       "model_id": "7ffdea553b604cce9e8914c9425d9f38",
       "version_major": 2,
       "version_minor": 0
      },
      "text/plain": [
       "Validation: |          | 0/? [00:00<?, ?it/s]"
      ]
     },
     "metadata": {},
     "output_type": "display_data"
    },
    {
     "name": "stderr",
     "output_type": "stream",
     "text": [
      "`Trainer.fit` stopped: `max_epochs=10` reached.\n",
      "/home/mlcore/conda/lib/python3.10/site-packages/pytorch_lightning/trainer/connectors/checkpoint_connector.py:149: `.test(ckpt_path=None)` was called without a model. The best model of the previous `fit` call will be used. You can pass `.test(ckpt_path='best')` to use the best model or `.test(ckpt_path='last')` to use the last model. If you pass a value, this warning will be silenced.\n",
      "Restoring states from the checkpoint path at /workdir/search-ml-airflow-29/dags/suggests/llm/sp/lightning_logs/version_3/checkpoints/epoch=9-step=1990-v6.ckpt\n",
      "LOCAL_RANK: 0 - CUDA_VISIBLE_DEVICES: [0]\n",
      "Loaded model weights from the checkpoint at /workdir/search-ml-airflow-29/dags/suggests/llm/sp/lightning_logs/version_3/checkpoints/epoch=9-step=1990-v6.ckpt\n",
      "/home/mlcore/conda/lib/python3.10/site-packages/pytorch_lightning/trainer/connectors/data_connector.py:425: The 'test_dataloader' does not have many workers which may be a bottleneck. Consider increasing the value of the `num_workers` argument` to `num_workers=13` in the `DataLoader` to improve performance.\n"
     ]
    },
    {
     "data": {
      "application/vnd.jupyter.widget-view+json": {
       "model_id": "5a79e48d21594d629554b11f5eb118fa",
       "version_major": 2,
       "version_minor": 0
      },
      "text/plain": [
       "Testing: |          | 0/? [00:00<?, ?it/s]"
      ]
     },
     "metadata": {},
     "output_type": "display_data"
    },
    {
     "name": "stderr",
     "output_type": "stream",
     "text": [
      "Unsupported operator aten::max_pool1d encountered 2 time(s)\n",
      "Unsupported operator aten::max_pool1d encountered 2 time(s)\n",
      "Unsupported operator aten::max_pool1d encountered 2 time(s)\n",
      "Unsupported operator aten::max_pool1d encountered 2 time(s)\n",
      "Unsupported operator aten::max_pool1d encountered 2 time(s)\n",
      "Unsupported operator aten::max_pool1d encountered 2 time(s)\n",
      "Unsupported operator aten::max_pool1d encountered 2 time(s)\n",
      "Unsupported operator aten::max_pool1d encountered 2 time(s)\n",
      "Unsupported operator aten::max_pool1d encountered 2 time(s)\n",
      "Unsupported operator aten::max_pool1d encountered 2 time(s)\n",
      "Unsupported operator aten::max_pool1d encountered 2 time(s)\n",
      "Unsupported operator aten::max_pool1d encountered 2 time(s)\n",
      "Unsupported operator aten::max_pool1d encountered 2 time(s)\n",
      "Unsupported operator aten::max_pool1d encountered 2 time(s)\n",
      "Unsupported operator aten::max_pool1d encountered 2 time(s)\n",
      "Unsupported operator aten::max_pool1d encountered 2 time(s)\n",
      "Unsupported operator aten::max_pool1d encountered 2 time(s)\n",
      "Unsupported operator aten::max_pool1d encountered 2 time(s)\n",
      "Unsupported operator aten::max_pool1d encountered 2 time(s)\n",
      "Unsupported operator aten::max_pool1d encountered 2 time(s)\n",
      "Unsupported operator aten::max_pool1d encountered 2 time(s)\n",
      "Unsupported operator aten::max_pool1d encountered 2 time(s)\n",
      "Unsupported operator aten::max_pool1d encountered 2 time(s)\n",
      "Unsupported operator aten::max_pool1d encountered 2 time(s)\n",
      "Unsupported operator aten::max_pool1d encountered 2 time(s)\n",
      "Unsupported operator aten::max_pool1d encountered 2 time(s)\n",
      "/home/mlcore/conda/lib/python3.10/site-packages/torchaudio/functional/functional.py:584: UserWarning: At least one mel filterbank has all zero values. The value for `n_mels` (120) may be set too high. Or, the value for `n_freqs` (201) may be set too low.\n",
      "  warnings.warn(\n",
      "You are using the plain ModelCheckpoint callback. Consider using LitModelCheckpoint which with seamless uploading to Model registry.\n",
      "GPU available: True (cuda), used: True\n",
      "TPU available: False, using: 0 TPU cores\n",
      "HPU available: False, using: 0 HPUs\n",
      "/home/mlcore/conda/lib/python3.10/site-packages/pytorch_lightning/callbacks/model_checkpoint.py:654: Checkpoint directory /workdir/search-ml-airflow-29/dags/suggests/llm/sp/lightning_logs/version_4/checkpoints exists and is not empty.\n",
      "LOCAL_RANK: 0 - CUDA_VISIBLE_DEVICES: [0]\n",
      "\n",
      "  | Name              | Type              | Params | Mode \n",
      "----------------------------------------------------------------\n",
      "0 | feature_extractor | LogMelFilterBanks | 0      | train\n",
      "1 | model             | CNN               | 7.0 K  | train\n",
      "2 | criterion         | CrossEntropyLoss  | 0      | train\n",
      "----------------------------------------------------------------\n",
      "7.0 K     Trainable params\n",
      "0         Non-trainable params\n",
      "7.0 K     Total params\n",
      "0.028     Total estimated model params size (MB)\n",
      "17        Modules in train mode\n",
      "0         Modules in eval mode\n"
     ]
    },
    {
     "name": "stdout",
     "output_type": "stream",
     "text": [
      "────────────────────────────────────────────────────────────────────────────────────────────────────────────────────────\n",
      "       Test metric             DataLoader 0\n",
      "────────────────────────────────────────────────────────────────────────────────────────────────────────────────────────\n",
      "          flops                  468752.0\n",
      "        test_acc            0.9672330021858215\n",
      "────────────────────────────────────────────────────────────────────────────────────────────────────────────────────────\n",
      "avg epoch time: 1.3095192977360317\n"
     ]
    },
    {
     "data": {
      "application/vnd.jupyter.widget-view+json": {
       "model_id": "5db96f32b3ba4699b04fefd928d0aad3",
       "version_major": 2,
       "version_minor": 0
      },
      "text/plain": [
       "Sanity Checking: |          | 0/? [00:00<?, ?it/s]"
      ]
     },
     "metadata": {},
     "output_type": "display_data"
    },
    {
     "name": "stderr",
     "output_type": "stream",
     "text": [
      "/home/mlcore/conda/lib/python3.10/site-packages/pytorch_lightning/trainer/connectors/data_connector.py:425: The 'val_dataloader' does not have many workers which may be a bottleneck. Consider increasing the value of the `num_workers` argument` to `num_workers=13` in the `DataLoader` to improve performance.\n",
      "/home/mlcore/conda/lib/python3.10/site-packages/pytorch_lightning/trainer/connectors/data_connector.py:425: The 'train_dataloader' does not have many workers which may be a bottleneck. Consider increasing the value of the `num_workers` argument` to `num_workers=13` in the `DataLoader` to improve performance.\n"
     ]
    },
    {
     "data": {
      "application/vnd.jupyter.widget-view+json": {
       "model_id": "941ceaccd9be4d0cb45b58c2b6fd406b",
       "version_major": 2,
       "version_minor": 0
      },
      "text/plain": [
       "Training: |          | 0/? [00:00<?, ?it/s]"
      ]
     },
     "metadata": {},
     "output_type": "display_data"
    },
    {
     "data": {
      "application/vnd.jupyter.widget-view+json": {
       "model_id": "ad424ddd78b64bfa8691790a3fa3deb7",
       "version_major": 2,
       "version_minor": 0
      },
      "text/plain": [
       "Validation: |          | 0/? [00:00<?, ?it/s]"
      ]
     },
     "metadata": {},
     "output_type": "display_data"
    },
    {
     "data": {
      "application/vnd.jupyter.widget-view+json": {
       "model_id": "ba79e722a9ba4875bf2aee85ee7b06d3",
       "version_major": 2,
       "version_minor": 0
      },
      "text/plain": [
       "Validation: |          | 0/? [00:00<?, ?it/s]"
      ]
     },
     "metadata": {},
     "output_type": "display_data"
    },
    {
     "data": {
      "application/vnd.jupyter.widget-view+json": {
       "model_id": "ffc0a4bdb58f4177a7959dff481db424",
       "version_major": 2,
       "version_minor": 0
      },
      "text/plain": [
       "Validation: |          | 0/? [00:00<?, ?it/s]"
      ]
     },
     "metadata": {},
     "output_type": "display_data"
    },
    {
     "data": {
      "application/vnd.jupyter.widget-view+json": {
       "model_id": "bbf442dd0e944589a44b2e989ff88fb6",
       "version_major": 2,
       "version_minor": 0
      },
      "text/plain": [
       "Validation: |          | 0/? [00:00<?, ?it/s]"
      ]
     },
     "metadata": {},
     "output_type": "display_data"
    },
    {
     "data": {
      "application/vnd.jupyter.widget-view+json": {
       "model_id": "2beb26df9afa43c1b310b3387bfb956e",
       "version_major": 2,
       "version_minor": 0
      },
      "text/plain": [
       "Validation: |          | 0/? [00:00<?, ?it/s]"
      ]
     },
     "metadata": {},
     "output_type": "display_data"
    },
    {
     "data": {
      "application/vnd.jupyter.widget-view+json": {
       "model_id": "dab0297903844973b1f632821b98c0ff",
       "version_major": 2,
       "version_minor": 0
      },
      "text/plain": [
       "Validation: |          | 0/? [00:00<?, ?it/s]"
      ]
     },
     "metadata": {},
     "output_type": "display_data"
    },
    {
     "data": {
      "application/vnd.jupyter.widget-view+json": {
       "model_id": "3849810a65ce4c30b4317e7a047d509b",
       "version_major": 2,
       "version_minor": 0
      },
      "text/plain": [
       "Validation: |          | 0/? [00:00<?, ?it/s]"
      ]
     },
     "metadata": {},
     "output_type": "display_data"
    },
    {
     "data": {
      "application/vnd.jupyter.widget-view+json": {
       "model_id": "a87ff29f4f4d4c8ca3716ae7fddea878",
       "version_major": 2,
       "version_minor": 0
      },
      "text/plain": [
       "Validation: |          | 0/? [00:00<?, ?it/s]"
      ]
     },
     "metadata": {},
     "output_type": "display_data"
    },
    {
     "data": {
      "application/vnd.jupyter.widget-view+json": {
       "model_id": "8c8aa3ad805845d08d71b2448cf4753d",
       "version_major": 2,
       "version_minor": 0
      },
      "text/plain": [
       "Validation: |          | 0/? [00:00<?, ?it/s]"
      ]
     },
     "metadata": {},
     "output_type": "display_data"
    },
    {
     "data": {
      "application/vnd.jupyter.widget-view+json": {
       "model_id": "f381649bf58741e9964b4a3801ecda3c",
       "version_major": 2,
       "version_minor": 0
      },
      "text/plain": [
       "Validation: |          | 0/? [00:00<?, ?it/s]"
      ]
     },
     "metadata": {},
     "output_type": "display_data"
    },
    {
     "name": "stderr",
     "output_type": "stream",
     "text": [
      "`Trainer.fit` stopped: `max_epochs=10` reached.\n",
      "/home/mlcore/conda/lib/python3.10/site-packages/pytorch_lightning/trainer/connectors/checkpoint_connector.py:149: `.test(ckpt_path=None)` was called without a model. The best model of the previous `fit` call will be used. You can pass `.test(ckpt_path='best')` to use the best model or `.test(ckpt_path='last')` to use the last model. If you pass a value, this warning will be silenced.\n",
      "Restoring states from the checkpoint path at /workdir/search-ml-airflow-29/dags/suggests/llm/sp/lightning_logs/version_4/checkpoints/epoch=9-step=1990-v6.ckpt\n",
      "LOCAL_RANK: 0 - CUDA_VISIBLE_DEVICES: [0]\n",
      "Loaded model weights from the checkpoint at /workdir/search-ml-airflow-29/dags/suggests/llm/sp/lightning_logs/version_4/checkpoints/epoch=9-step=1990-v6.ckpt\n",
      "/home/mlcore/conda/lib/python3.10/site-packages/pytorch_lightning/trainer/connectors/data_connector.py:425: The 'test_dataloader' does not have many workers which may be a bottleneck. Consider increasing the value of the `num_workers` argument` to `num_workers=13` in the `DataLoader` to improve performance.\n"
     ]
    },
    {
     "data": {
      "application/vnd.jupyter.widget-view+json": {
       "model_id": "f43cf03fcb26443f9cd82c4f982fc079",
       "version_major": 2,
       "version_minor": 0
      },
      "text/plain": [
       "Testing: |          | 0/? [00:00<?, ?it/s]"
      ]
     },
     "metadata": {},
     "output_type": "display_data"
    },
    {
     "name": "stderr",
     "output_type": "stream",
     "text": [
      "Unsupported operator aten::max_pool1d encountered 2 time(s)\n",
      "Unsupported operator aten::max_pool1d encountered 2 time(s)\n",
      "Unsupported operator aten::max_pool1d encountered 2 time(s)\n",
      "Unsupported operator aten::max_pool1d encountered 2 time(s)\n",
      "Unsupported operator aten::max_pool1d encountered 2 time(s)\n",
      "Unsupported operator aten::max_pool1d encountered 2 time(s)\n",
      "Unsupported operator aten::max_pool1d encountered 2 time(s)\n",
      "Unsupported operator aten::max_pool1d encountered 2 time(s)\n",
      "Unsupported operator aten::max_pool1d encountered 2 time(s)\n",
      "Unsupported operator aten::max_pool1d encountered 2 time(s)\n",
      "Unsupported operator aten::max_pool1d encountered 2 time(s)\n",
      "Unsupported operator aten::max_pool1d encountered 2 time(s)\n",
      "Unsupported operator aten::max_pool1d encountered 2 time(s)\n",
      "Unsupported operator aten::max_pool1d encountered 2 time(s)\n",
      "Unsupported operator aten::max_pool1d encountered 2 time(s)\n",
      "Unsupported operator aten::max_pool1d encountered 2 time(s)\n",
      "Unsupported operator aten::max_pool1d encountered 2 time(s)\n",
      "Unsupported operator aten::max_pool1d encountered 2 time(s)\n",
      "Unsupported operator aten::max_pool1d encountered 2 time(s)\n",
      "Unsupported operator aten::max_pool1d encountered 2 time(s)\n",
      "Unsupported operator aten::max_pool1d encountered 2 time(s)\n",
      "Unsupported operator aten::max_pool1d encountered 2 time(s)\n",
      "Unsupported operator aten::max_pool1d encountered 2 time(s)\n",
      "Unsupported operator aten::max_pool1d encountered 2 time(s)\n",
      "Unsupported operator aten::max_pool1d encountered 2 time(s)\n",
      "Unsupported operator aten::max_pool1d encountered 2 time(s)\n"
     ]
    },
    {
     "name": "stdout",
     "output_type": "stream",
     "text": [
      "────────────────────────────────────────────────────────────────────────────────────────────────────────────────────────\n",
      "       Test metric             DataLoader 0\n",
      "────────────────────────────────────────────────────────────────────────────────────────────────────────────────────────\n",
      "          flops                  658832.0\n",
      "        test_acc            0.9526699185371399\n",
      "────────────────────────────────────────────────────────────────────────────────────────────────────────────────────────\n",
      "avg epoch time: 1.378239165033613\n"
     ]
    }
   ],
   "source": [
    "from lightning.pytorch.loggers import TensorBoardLogger\n",
    "from tensorboard.backend.event_processing import event_accumulator\n",
    "\n",
    "\n",
    "n_mels_values = [20, 40, 60, 80, 120]\n",
    "train_loss_stats = []\n",
    "test_acc_stats = []\n",
    "\n",
    "for i, n_mels in enumerate(n_mels_values):\n",
    "    model = ClassifierModel(n_mels=n_mels, num_classes=2, learning_rate=3e-4)\n",
    "    logger = TensorBoardLogger(save_dir=os.getcwd(), version=i, name=\"lightning_logs\")\n",
    "\n",
    "    trainer = pl.Trainer(\n",
    "        max_epochs=10,\n",
    "        accelerator=\"gpu\",\n",
    "        logger=logger\n",
    "    )\n",
    "\n",
    "    trainer.fit(model, train_loader, val_loader)\n",
    "    test_acc = trainer.test(dataloaders=test_loader)[0]['test_acc']\n",
    "    test_acc_stats.append(test_acc)\n",
    "\n",
    "    log_dir = logger.log_dir\n",
    "\n",
    "    ea = event_accumulator.EventAccumulator(log_dir)\n",
    "    ea.Reload()\n",
    "\n",
    "    epoch_time_values = [event.value for event in ea.Scalars(\"epoch_time\")]\n",
    "    print(f\"avg epoch time: {np.mean(epoch_time_values)}\")"
   ]
  },
  {
   "cell_type": "markdown",
   "id": "f0e2ec4e-1c30-45f5-b2f7-4381f25e67eb",
   "metadata": {},
   "source": [
    "### n_mels vs test_acc"
   ]
  },
  {
   "cell_type": "code",
   "execution_count": 95,
   "id": "95c88d26-6da8-4eb2-9d0b-d5b2cd8be7df",
   "metadata": {},
   "outputs": [
    {
     "data": {
      "image/png": "[encoded data removed]",
      "text/plain": [
       "<Figure size 1200x600 with 1 Axes>"
      ]
     },
     "metadata": {},
     "output_type": "display_data"
    }
   ],
   "source": [
    "def plot_graph(x: list[int | float], y: list[int | float], x_label: str, y_label: str) -> None:\n",
    "    sns.set_theme(style=\"darkgrid\", palette=\"viridis\", context='notebook')\n",
    "    plt.figure(figsize=(12, 6))\n",
    "\n",
    "    sns.lineplot(\n",
    "        data=pd.DataFrame({x_label: x, y_label: y}),\n",
    "        x=x_label,\n",
    "        y=y_label,\n",
    "        marker='o',\n",
    "        markersize=8,\n",
    "        linewidth=2.5,\n",
    "        linestyle='-',\n",
    "        markeredgecolor='w',\n",
    "        markeredgewidth=1.5\n",
    "    )\n",
    "\n",
    "    plt.grid(True, linestyle='--', alpha=0.7)\n",
    "    sns.despine(left=True, bottom=True)\n",
    "    plt.tight_layout()\n",
    "    plt.show()\n",
    "\n",
    "plot_graph(x=n_mels_values, y=test_acc_stats, x_label=\"n_mels\", y_label=\"test_acc\")"
   ]
  },
  {
   "cell_type": "markdown",
   "id": "22f12ef5-1cf7-4c9d-b99e-fff917576123",
   "metadata": {},
   "source": [
    "The most optimal value for n_mels is 60"
   ]
  },
  {
   "cell_type": "markdown",
   "id": "d81ebcf9-8285-4be5-a5f9-66c8f141fd27",
   "metadata": {},
   "source": [
    "## groups experiments"
   ]
  },
  {
   "cell_type": "code",
   "execution_count": 96,
   "id": "38b31a3c-2ce7-434e-a459-326387609b18",
   "metadata": {},
   "outputs": [],
   "source": [
    "def count_parameters(model) -> int:\n",
    "    return sum(p.numel() for p in model.parameters() if p.requires_grad)"
   ]
  },
  {
   "cell_type": "code",
   "execution_count": 97,
   "id": "03d30a4c-5702-473c-841a-288ca3e891ec",
   "metadata": {
    "scrolled": true
   },
   "outputs": [
    {
     "name": "stderr",
     "output_type": "stream",
     "text": [
      "You are using the plain ModelCheckpoint callback. Consider using LitModelCheckpoint which with seamless uploading to Model registry.\n",
      "GPU available: True (cuda), used: True\n",
      "TPU available: False, using: 0 TPU cores\n",
      "HPU available: False, using: 0 HPUs\n",
      "/home/mlcore/conda/lib/python3.10/site-packages/pytorch_lightning/callbacks/model_checkpoint.py:654: Checkpoint directory /workdir/search-ml-airflow-29/dags/suggests/llm/sp/lightning_logs/version_0/checkpoints exists and is not empty.\n",
      "LOCAL_RANK: 0 - CUDA_VISIBLE_DEVICES: [0]\n",
      "\n",
      "  | Name              | Type              | Params | Mode \n",
      "----------------------------------------------------------------\n",
      "0 | feature_extractor | LogMelFilterBanks | 0      | train\n",
      "1 | model             | CNN               | 7.9 K  | train\n",
      "2 | criterion         | CrossEntropyLoss  | 0      | train\n",
      "----------------------------------------------------------------\n",
      "7.9 K     Trainable params\n",
      "0         Non-trainable params\n",
      "7.9 K     Total params\n",
      "0.032     Total estimated model params size (MB)\n",
      "17        Modules in train mode\n",
      "0         Modules in eval mode\n"
     ]
    },
    {
     "data": {
      "application/vnd.jupyter.widget-view+json": {
       "model_id": "5ffebdc05a494dc0beaf8daefc1138a4",
       "version_major": 2,
       "version_minor": 0
      },
      "text/plain": [
       "Sanity Checking: |          | 0/? [00:00<?, ?it/s]"
      ]
     },
     "metadata": {},
     "output_type": "display_data"
    },
    {
     "name": "stderr",
     "output_type": "stream",
     "text": [
      "/home/mlcore/conda/lib/python3.10/site-packages/pytorch_lightning/trainer/connectors/data_connector.py:425: The 'val_dataloader' does not have many workers which may be a bottleneck. Consider increasing the value of the `num_workers` argument` to `num_workers=13` in the `DataLoader` to improve performance.\n",
      "/home/mlcore/conda/lib/python3.10/site-packages/pytorch_lightning/trainer/connectors/data_connector.py:425: The 'train_dataloader' does not have many workers which may be a bottleneck. Consider increasing the value of the `num_workers` argument` to `num_workers=13` in the `DataLoader` to improve performance.\n"
     ]
    },
    {
     "data": {
      "application/vnd.jupyter.widget-view+json": {
       "model_id": "e8b24930faa04d04850c3c4d2afc1b02",
       "version_major": 2,
       "version_minor": 0
      },
      "text/plain": [
       "Training: |          | 0/? [00:00<?, ?it/s]"
      ]
     },
     "metadata": {},
     "output_type": "display_data"
    },
    {
     "data": {
      "application/vnd.jupyter.widget-view+json": {
       "model_id": "42e5fd699c7b4d32a5f22bab29aac4dd",
       "version_major": 2,
       "version_minor": 0
      },
      "text/plain": [
       "Validation: |          | 0/? [00:00<?, ?it/s]"
      ]
     },
     "metadata": {},
     "output_type": "display_data"
    },
    {
     "data": {
      "application/vnd.jupyter.widget-view+json": {
       "model_id": "019969e653ab4f63b5301aafd37b5b55",
       "version_major": 2,
       "version_minor": 0
      },
      "text/plain": [
       "Validation: |          | 0/? [00:00<?, ?it/s]"
      ]
     },
     "metadata": {},
     "output_type": "display_data"
    },
    {
     "data": {
      "application/vnd.jupyter.widget-view+json": {
       "model_id": "594f03b5f6bf42bfb1d777ab4150e2dc",
       "version_major": 2,
       "version_minor": 0
      },
      "text/plain": [
       "Validation: |          | 0/? [00:00<?, ?it/s]"
      ]
     },
     "metadata": {},
     "output_type": "display_data"
    },
    {
     "data": {
      "application/vnd.jupyter.widget-view+json": {
       "model_id": "5c1bcc71ba044ed9af379e6fa967f511",
       "version_major": 2,
       "version_minor": 0
      },
      "text/plain": [
       "Validation: |          | 0/? [00:00<?, ?it/s]"
      ]
     },
     "metadata": {},
     "output_type": "display_data"
    },
    {
     "data": {
      "application/vnd.jupyter.widget-view+json": {
       "model_id": "30e5b7bef27e4a9c915ec6bc224c7565",
       "version_major": 2,
       "version_minor": 0
      },
      "text/plain": [
       "Validation: |          | 0/? [00:00<?, ?it/s]"
      ]
     },
     "metadata": {},
     "output_type": "display_data"
    },
    {
     "data": {
      "application/vnd.jupyter.widget-view+json": {
       "model_id": "59cbc943bfdb41bbaf6d6c13b4caae2a",
       "version_major": 2,
       "version_minor": 0
      },
      "text/plain": [
       "Validation: |          | 0/? [00:00<?, ?it/s]"
      ]
     },
     "metadata": {},
     "output_type": "display_data"
    },
    {
     "data": {
      "application/vnd.jupyter.widget-view+json": {
       "model_id": "266faef6e907424db7084017591e0efc",
       "version_major": 2,
       "version_minor": 0
      },
      "text/plain": [
       "Validation: |          | 0/? [00:00<?, ?it/s]"
      ]
     },
     "metadata": {},
     "output_type": "display_data"
    },
    {
     "data": {
      "application/vnd.jupyter.widget-view+json": {
       "model_id": "a9d09c78a9e1470c95a984b358615a88",
       "version_major": 2,
       "version_minor": 0
      },
      "text/plain": [
       "Validation: |          | 0/? [00:00<?, ?it/s]"
      ]
     },
     "metadata": {},
     "output_type": "display_data"
    },
    {
     "data": {
      "application/vnd.jupyter.widget-view+json": {
       "model_id": "791396ba74f54253918aad39b5a459db",
       "version_major": 2,
       "version_minor": 0
      },
      "text/plain": [
       "Validation: |          | 0/? [00:00<?, ?it/s]"
      ]
     },
     "metadata": {},
     "output_type": "display_data"
    },
    {
     "data": {
      "application/vnd.jupyter.widget-view+json": {
       "model_id": "a059074f974f4a47bded8b41f50c44a4",
       "version_major": 2,
       "version_minor": 0
      },
      "text/plain": [
       "Validation: |          | 0/? [00:00<?, ?it/s]"
      ]
     },
     "metadata": {},
     "output_type": "display_data"
    },
    {
     "name": "stderr",
     "output_type": "stream",
     "text": [
      "`Trainer.fit` stopped: `max_epochs=10` reached.\n",
      "/home/mlcore/conda/lib/python3.10/site-packages/pytorch_lightning/trainer/connectors/checkpoint_connector.py:149: `.test(ckpt_path=None)` was called without a model. The best model of the previous `fit` call will be used. You can pass `.test(ckpt_path='best')` to use the best model or `.test(ckpt_path='last')` to use the last model. If you pass a value, this warning will be silenced.\n",
      "Restoring states from the checkpoint path at /workdir/search-ml-airflow-29/dags/suggests/llm/sp/lightning_logs/version_0/checkpoints/epoch=9-step=1990-v8.ckpt\n",
      "LOCAL_RANK: 0 - CUDA_VISIBLE_DEVICES: [0]\n",
      "Loaded model weights from the checkpoint at /workdir/search-ml-airflow-29/dags/suggests/llm/sp/lightning_logs/version_0/checkpoints/epoch=9-step=1990-v8.ckpt\n",
      "/home/mlcore/conda/lib/python3.10/site-packages/pytorch_lightning/trainer/connectors/data_connector.py:425: The 'test_dataloader' does not have many workers which may be a bottleneck. Consider increasing the value of the `num_workers` argument` to `num_workers=13` in the `DataLoader` to improve performance.\n"
     ]
    },
    {
     "data": {
      "application/vnd.jupyter.widget-view+json": {
       "model_id": "b775bcdf17c64d2ab83b01e70cdbc3a3",
       "version_major": 2,
       "version_minor": 0
      },
      "text/plain": [
       "Testing: |          | 0/? [00:00<?, ?it/s]"
      ]
     },
     "metadata": {},
     "output_type": "display_data"
    },
    {
     "name": "stderr",
     "output_type": "stream",
     "text": [
      "Unsupported operator aten::max_pool1d encountered 2 time(s)\n",
      "Unsupported operator aten::max_pool1d encountered 2 time(s)\n",
      "Unsupported operator aten::max_pool1d encountered 2 time(s)\n",
      "Unsupported operator aten::max_pool1d encountered 2 time(s)\n",
      "Unsupported operator aten::max_pool1d encountered 2 time(s)\n",
      "Unsupported operator aten::max_pool1d encountered 2 time(s)\n",
      "Unsupported operator aten::max_pool1d encountered 2 time(s)\n",
      "Unsupported operator aten::max_pool1d encountered 2 time(s)\n",
      "Unsupported operator aten::max_pool1d encountered 2 time(s)\n",
      "Unsupported operator aten::max_pool1d encountered 2 time(s)\n",
      "Unsupported operator aten::max_pool1d encountered 2 time(s)\n",
      "Unsupported operator aten::max_pool1d encountered 2 time(s)\n",
      "Unsupported operator aten::max_pool1d encountered 2 time(s)\n",
      "Unsupported operator aten::max_pool1d encountered 2 time(s)\n",
      "Unsupported operator aten::max_pool1d encountered 2 time(s)\n",
      "Unsupported operator aten::max_pool1d encountered 2 time(s)\n",
      "Unsupported operator aten::max_pool1d encountered 2 time(s)\n",
      "Unsupported operator aten::max_pool1d encountered 2 time(s)\n",
      "Unsupported operator aten::max_pool1d encountered 2 time(s)\n",
      "Unsupported operator aten::max_pool1d encountered 2 time(s)\n",
      "Unsupported operator aten::max_pool1d encountered 2 time(s)\n",
      "Unsupported operator aten::max_pool1d encountered 2 time(s)\n",
      "Unsupported operator aten::max_pool1d encountered 2 time(s)\n",
      "Unsupported operator aten::max_pool1d encountered 2 time(s)\n",
      "Unsupported operator aten::max_pool1d encountered 2 time(s)\n",
      "Unsupported operator aten::max_pool1d encountered 2 time(s)\n",
      "You are using the plain ModelCheckpoint callback. Consider using LitModelCheckpoint which with seamless uploading to Model registry.\n",
      "GPU available: True (cuda), used: True\n",
      "TPU available: False, using: 0 TPU cores\n",
      "HPU available: False, using: 0 HPUs\n",
      "/home/mlcore/conda/lib/python3.10/site-packages/pytorch_lightning/callbacks/model_checkpoint.py:654: Checkpoint directory /workdir/search-ml-airflow-29/dags/suggests/llm/sp/lightning_logs/version_1/checkpoints exists and is not empty.\n",
      "LOCAL_RANK: 0 - CUDA_VISIBLE_DEVICES: [0]\n",
      "\n",
      "  | Name              | Type              | Params | Mode \n",
      "----------------------------------------------------------------\n",
      "0 | feature_extractor | LogMelFilterBanks | 0      | train\n",
      "1 | model             | CNN               | 4.1 K  | train\n",
      "2 | criterion         | CrossEntropyLoss  | 0      | train\n",
      "----------------------------------------------------------------\n",
      "4.1 K     Trainable params\n",
      "0         Non-trainable params\n",
      "4.1 K     Total params\n",
      "0.016     Total estimated model params size (MB)\n",
      "17        Modules in train mode\n",
      "0         Modules in eval mode\n"
     ]
    },
    {
     "name": "stdout",
     "output_type": "stream",
     "text": [
      "────────────────────────────────────────────────────────────────────────────────────────────────────────────────────────\n",
      "       Test metric             DataLoader 0\n",
      "────────────────────────────────────────────────────────────────────────────────────────────────────────────────────────\n",
      "          flops                  737552.0\n",
      "        test_acc            0.9769417643547058\n",
      "────────────────────────────────────────────────────────────────────────────────────────────────────────────────────────\n",
      "avg epoch time: 1.3395502302381728\n"
     ]
    },
    {
     "data": {
      "application/vnd.jupyter.widget-view+json": {
       "model_id": "3c34290d3cb5496581c88ba5a0b96d33",
       "version_major": 2,
       "version_minor": 0
      },
      "text/plain": [
       "Sanity Checking: |          | 0/? [00:00<?, ?it/s]"
      ]
     },
     "metadata": {},
     "output_type": "display_data"
    },
    {
     "name": "stderr",
     "output_type": "stream",
     "text": [
      "/home/mlcore/conda/lib/python3.10/site-packages/pytorch_lightning/trainer/connectors/data_connector.py:425: The 'val_dataloader' does not have many workers which may be a bottleneck. Consider increasing the value of the `num_workers` argument` to `num_workers=13` in the `DataLoader` to improve performance.\n",
      "/home/mlcore/conda/lib/python3.10/site-packages/pytorch_lightning/trainer/connectors/data_connector.py:425: The 'train_dataloader' does not have many workers which may be a bottleneck. Consider increasing the value of the `num_workers` argument` to `num_workers=13` in the `DataLoader` to improve performance.\n"
     ]
    },
    {
     "data": {
      "application/vnd.jupyter.widget-view+json": {
       "model_id": "bbcf094583df4f71be7aad22b7865a6c",
       "version_major": 2,
       "version_minor": 0
      },
      "text/plain": [
       "Training: |          | 0/? [00:00<?, ?it/s]"
      ]
     },
     "metadata": {},
     "output_type": "display_data"
    },
    {
     "data": {
      "application/vnd.jupyter.widget-view+json": {
       "model_id": "5d085d25e3ac415b9f7cc4121896c541",
       "version_major": 2,
       "version_minor": 0
      },
      "text/plain": [
       "Validation: |          | 0/? [00:00<?, ?it/s]"
      ]
     },
     "metadata": {},
     "output_type": "display_data"
    },
    {
     "data": {
      "application/vnd.jupyter.widget-view+json": {
       "model_id": "9aff6b09b6434b97ac5c414ccf643655",
       "version_major": 2,
       "version_minor": 0
      },
      "text/plain": [
       "Validation: |          | 0/? [00:00<?, ?it/s]"
      ]
     },
     "metadata": {},
     "output_type": "display_data"
    },
    {
     "data": {
      "application/vnd.jupyter.widget-view+json": {
       "model_id": "607abc2904e0498fa952d2cb8e9ffd61",
       "version_major": 2,
       "version_minor": 0
      },
      "text/plain": [
       "Validation: |          | 0/? [00:00<?, ?it/s]"
      ]
     },
     "metadata": {},
     "output_type": "display_data"
    },
    {
     "data": {
      "application/vnd.jupyter.widget-view+json": {
       "model_id": "927282c3b81c4ae2adf08fd25ad0370f",
       "version_major": 2,
       "version_minor": 0
      },
      "text/plain": [
       "Validation: |          | 0/? [00:00<?, ?it/s]"
      ]
     },
     "metadata": {},
     "output_type": "display_data"
    },
    {
     "data": {
      "application/vnd.jupyter.widget-view+json": {
       "model_id": "1bfc30177a994db38762a1a2ef3db46b",
       "version_major": 2,
       "version_minor": 0
      },
      "text/plain": [
       "Validation: |          | 0/? [00:00<?, ?it/s]"
      ]
     },
     "metadata": {},
     "output_type": "display_data"
    },
    {
     "data": {
      "application/vnd.jupyter.widget-view+json": {
       "model_id": "61944477b85b4210b972ff07c4b46c5b",
       "version_major": 2,
       "version_minor": 0
      },
      "text/plain": [
       "Validation: |          | 0/? [00:00<?, ?it/s]"
      ]
     },
     "metadata": {},
     "output_type": "display_data"
    },
    {
     "data": {
      "application/vnd.jupyter.widget-view+json": {
       "model_id": "6da55a1c377b43d492a10afe271f5b15",
       "version_major": 2,
       "version_minor": 0
      },
      "text/plain": [
       "Validation: |          | 0/? [00:00<?, ?it/s]"
      ]
     },
     "metadata": {},
     "output_type": "display_data"
    },
    {
     "data": {
      "application/vnd.jupyter.widget-view+json": {
       "model_id": "830872627f6b4dce81e1b44ee0267971",
       "version_major": 2,
       "version_minor": 0
      },
      "text/plain": [
       "Validation: |          | 0/? [00:00<?, ?it/s]"
      ]
     },
     "metadata": {},
     "output_type": "display_data"
    },
    {
     "data": {
      "application/vnd.jupyter.widget-view+json": {
       "model_id": "dcf1151d991f4da1928b40e3a6fa76a7",
       "version_major": 2,
       "version_minor": 0
      },
      "text/plain": [
       "Validation: |          | 0/? [00:00<?, ?it/s]"
      ]
     },
     "metadata": {},
     "output_type": "display_data"
    },
    {
     "data": {
      "application/vnd.jupyter.widget-view+json": {
       "model_id": "306ec205254242eabd79b0cc60c4f6f0",
       "version_major": 2,
       "version_minor": 0
      },
      "text/plain": [
       "Validation: |          | 0/? [00:00<?, ?it/s]"
      ]
     },
     "metadata": {},
     "output_type": "display_data"
    },
    {
     "name": "stderr",
     "output_type": "stream",
     "text": [
      "`Trainer.fit` stopped: `max_epochs=10` reached.\n",
      "/home/mlcore/conda/lib/python3.10/site-packages/pytorch_lightning/trainer/connectors/checkpoint_connector.py:149: `.test(ckpt_path=None)` was called without a model. The best model of the previous `fit` call will be used. You can pass `.test(ckpt_path='best')` to use the best model or `.test(ckpt_path='last')` to use the last model. If you pass a value, this warning will be silenced.\n",
      "Restoring states from the checkpoint path at /workdir/search-ml-airflow-29/dags/suggests/llm/sp/lightning_logs/version_1/checkpoints/epoch=9-step=1990-v9.ckpt\n",
      "LOCAL_RANK: 0 - CUDA_VISIBLE_DEVICES: [0]\n",
      "Loaded model weights from the checkpoint at /workdir/search-ml-airflow-29/dags/suggests/llm/sp/lightning_logs/version_1/checkpoints/epoch=9-step=1990-v9.ckpt\n",
      "/home/mlcore/conda/lib/python3.10/site-packages/pytorch_lightning/trainer/connectors/data_connector.py:425: The 'test_dataloader' does not have many workers which may be a bottleneck. Consider increasing the value of the `num_workers` argument` to `num_workers=13` in the `DataLoader` to improve performance.\n"
     ]
    },
    {
     "data": {
      "application/vnd.jupyter.widget-view+json": {
       "model_id": "a6f61c8f0166420b9a0c246d50563719",
       "version_major": 2,
       "version_minor": 0
      },
      "text/plain": [
       "Testing: |          | 0/? [00:00<?, ?it/s]"
      ]
     },
     "metadata": {},
     "output_type": "display_data"
    },
    {
     "name": "stderr",
     "output_type": "stream",
     "text": [
      "Unsupported operator aten::max_pool1d encountered 2 time(s)\n",
      "Unsupported operator aten::max_pool1d encountered 2 time(s)\n",
      "Unsupported operator aten::max_pool1d encountered 2 time(s)\n",
      "Unsupported operator aten::max_pool1d encountered 2 time(s)\n",
      "Unsupported operator aten::max_pool1d encountered 2 time(s)\n",
      "Unsupported operator aten::max_pool1d encountered 2 time(s)\n",
      "Unsupported operator aten::max_pool1d encountered 2 time(s)\n",
      "Unsupported operator aten::max_pool1d encountered 2 time(s)\n",
      "Unsupported operator aten::max_pool1d encountered 2 time(s)\n",
      "Unsupported operator aten::max_pool1d encountered 2 time(s)\n",
      "Unsupported operator aten::max_pool1d encountered 2 time(s)\n",
      "Unsupported operator aten::max_pool1d encountered 2 time(s)\n",
      "Unsupported operator aten::max_pool1d encountered 2 time(s)\n",
      "Unsupported operator aten::max_pool1d encountered 2 time(s)\n",
      "Unsupported operator aten::max_pool1d encountered 2 time(s)\n",
      "Unsupported operator aten::max_pool1d encountered 2 time(s)\n",
      "Unsupported operator aten::max_pool1d encountered 2 time(s)\n",
      "Unsupported operator aten::max_pool1d encountered 2 time(s)\n",
      "Unsupported operator aten::max_pool1d encountered 2 time(s)\n",
      "Unsupported operator aten::max_pool1d encountered 2 time(s)\n",
      "Unsupported operator aten::max_pool1d encountered 2 time(s)\n",
      "Unsupported operator aten::max_pool1d encountered 2 time(s)\n",
      "Unsupported operator aten::max_pool1d encountered 2 time(s)\n",
      "Unsupported operator aten::max_pool1d encountered 2 time(s)\n",
      "Unsupported operator aten::max_pool1d encountered 2 time(s)\n",
      "Unsupported operator aten::max_pool1d encountered 2 time(s)\n",
      "You are using the plain ModelCheckpoint callback. Consider using LitModelCheckpoint which with seamless uploading to Model registry.\n",
      "GPU available: True (cuda), used: True\n",
      "TPU available: False, using: 0 TPU cores\n",
      "HPU available: False, using: 0 HPUs\n",
      "/home/mlcore/conda/lib/python3.10/site-packages/pytorch_lightning/callbacks/model_checkpoint.py:654: Checkpoint directory /workdir/search-ml-airflow-29/dags/suggests/llm/sp/lightning_logs/version_2/checkpoints exists and is not empty.\n",
      "LOCAL_RANK: 0 - CUDA_VISIBLE_DEVICES: [0]\n",
      "\n",
      "  | Name              | Type              | Params | Mode \n",
      "----------------------------------------------------------------\n",
      "0 | feature_extractor | LogMelFilterBanks | 0      | train\n",
      "1 | model             | CNN               | 2.2 K  | train\n",
      "2 | criterion         | CrossEntropyLoss  | 0      | train\n",
      "----------------------------------------------------------------\n",
      "2.2 K     Trainable params\n",
      "0         Non-trainable params\n",
      "2.2 K     Total params\n",
      "0.009     Total estimated model params size (MB)\n",
      "17        Modules in train mode\n",
      "0         Modules in eval mode\n"
     ]
    },
    {
     "name": "stdout",
     "output_type": "stream",
     "text": [
      "────────────────────────────────────────────────────────────────────────────────────────────────────────────────────────\n",
      "       Test metric             DataLoader 0\n",
      "────────────────────────────────────────────────────────────────────────────────────────────────────────────────────────\n",
      "          flops                  373712.0\n",
      "        test_acc            0.9635922312736511\n",
      "────────────────────────────────────────────────────────────────────────────────────────────────────────────────────────\n",
      "avg epoch time: 1.3634797525405884\n"
     ]
    },
    {
     "data": {
      "application/vnd.jupyter.widget-view+json": {
       "model_id": "edd7e59adee44b65b5170e4ef68ff47a",
       "version_major": 2,
       "version_minor": 0
      },
      "text/plain": [
       "Sanity Checking: |          | 0/? [00:00<?, ?it/s]"
      ]
     },
     "metadata": {},
     "output_type": "display_data"
    },
    {
     "name": "stderr",
     "output_type": "stream",
     "text": [
      "/home/mlcore/conda/lib/python3.10/site-packages/pytorch_lightning/trainer/connectors/data_connector.py:425: The 'val_dataloader' does not have many workers which may be a bottleneck. Consider increasing the value of the `num_workers` argument` to `num_workers=13` in the `DataLoader` to improve performance.\n",
      "/home/mlcore/conda/lib/python3.10/site-packages/pytorch_lightning/trainer/connectors/data_connector.py:425: The 'train_dataloader' does not have many workers which may be a bottleneck. Consider increasing the value of the `num_workers` argument` to `num_workers=13` in the `DataLoader` to improve performance.\n"
     ]
    },
    {
     "data": {
      "application/vnd.jupyter.widget-view+json": {
       "model_id": "c75e4c6401244b35854756ddb7b93e51",
       "version_major": 2,
       "version_minor": 0
      },
      "text/plain": [
       "Training: |          | 0/? [00:00<?, ?it/s]"
      ]
     },
     "metadata": {},
     "output_type": "display_data"
    },
    {
     "data": {
      "application/vnd.jupyter.widget-view+json": {
       "model_id": "cfcd2804b3f7468183faaa41b37c3fdd",
       "version_major": 2,
       "version_minor": 0
      },
      "text/plain": [
       "Validation: |          | 0/? [00:00<?, ?it/s]"
      ]
     },
     "metadata": {},
     "output_type": "display_data"
    },
    {
     "data": {
      "application/vnd.jupyter.widget-view+json": {
       "model_id": "cfda37e166424e2396a5a090dc3976a1",
       "version_major": 2,
       "version_minor": 0
      },
      "text/plain": [
       "Validation: |          | 0/? [00:00<?, ?it/s]"
      ]
     },
     "metadata": {},
     "output_type": "display_data"
    },
    {
     "data": {
      "application/vnd.jupyter.widget-view+json": {
       "model_id": "3e125076ff0d43e8affa5f45ee3ddb0e",
       "version_major": 2,
       "version_minor": 0
      },
      "text/plain": [
       "Validation: |          | 0/? [00:00<?, ?it/s]"
      ]
     },
     "metadata": {},
     "output_type": "display_data"
    },
    {
     "data": {
      "application/vnd.jupyter.widget-view+json": {
       "model_id": "ca896ef4073f444f9b8edd407188ef87",
       "version_major": 2,
       "version_minor": 0
      },
      "text/plain": [
       "Validation: |          | 0/? [00:00<?, ?it/s]"
      ]
     },
     "metadata": {},
     "output_type": "display_data"
    },
    {
     "data": {
      "application/vnd.jupyter.widget-view+json": {
       "model_id": "23112dc9ff5e4091bc6cf755e0d71f57",
       "version_major": 2,
       "version_minor": 0
      },
      "text/plain": [
       "Validation: |          | 0/? [00:00<?, ?it/s]"
      ]
     },
     "metadata": {},
     "output_type": "display_data"
    },
    {
     "data": {
      "application/vnd.jupyter.widget-view+json": {
       "model_id": "a80565a28a4e4ee7b956eb0a38af88cc",
       "version_major": 2,
       "version_minor": 0
      },
      "text/plain": [
       "Validation: |          | 0/? [00:00<?, ?it/s]"
      ]
     },
     "metadata": {},
     "output_type": "display_data"
    },
    {
     "data": {
      "application/vnd.jupyter.widget-view+json": {
       "model_id": "767483db1472457197fcdd301a4993f3",
       "version_major": 2,
       "version_minor": 0
      },
      "text/plain": [
       "Validation: |          | 0/? [00:00<?, ?it/s]"
      ]
     },
     "metadata": {},
     "output_type": "display_data"
    },
    {
     "data": {
      "application/vnd.jupyter.widget-view+json": {
       "model_id": "a8e6bc8937d54798ba550e1a514dd566",
       "version_major": 2,
       "version_minor": 0
      },
      "text/plain": [
       "Validation: |          | 0/? [00:00<?, ?it/s]"
      ]
     },
     "metadata": {},
     "output_type": "display_data"
    },
    {
     "data": {
      "application/vnd.jupyter.widget-view+json": {
       "model_id": "a7afd9b55f3249b3aba516ac3ed8dfde",
       "version_major": 2,
       "version_minor": 0
      },
      "text/plain": [
       "Validation: |          | 0/? [00:00<?, ?it/s]"
      ]
     },
     "metadata": {},
     "output_type": "display_data"
    },
    {
     "data": {
      "application/vnd.jupyter.widget-view+json": {
       "model_id": "eadf70ff62844a6db0bf81d325123f48",
       "version_major": 2,
       "version_minor": 0
      },
      "text/plain": [
       "Validation: |          | 0/? [00:00<?, ?it/s]"
      ]
     },
     "metadata": {},
     "output_type": "display_data"
    },
    {
     "name": "stderr",
     "output_type": "stream",
     "text": [
      "`Trainer.fit` stopped: `max_epochs=10` reached.\n",
      "/home/mlcore/conda/lib/python3.10/site-packages/pytorch_lightning/trainer/connectors/checkpoint_connector.py:149: `.test(ckpt_path=None)` was called without a model. The best model of the previous `fit` call will be used. You can pass `.test(ckpt_path='best')` to use the best model or `.test(ckpt_path='last')` to use the last model. If you pass a value, this warning will be silenced.\n",
      "Restoring states from the checkpoint path at /workdir/search-ml-airflow-29/dags/suggests/llm/sp/lightning_logs/version_2/checkpoints/epoch=9-step=1990-v8.ckpt\n",
      "LOCAL_RANK: 0 - CUDA_VISIBLE_DEVICES: [0]\n",
      "Loaded model weights from the checkpoint at /workdir/search-ml-airflow-29/dags/suggests/llm/sp/lightning_logs/version_2/checkpoints/epoch=9-step=1990-v8.ckpt\n",
      "/home/mlcore/conda/lib/python3.10/site-packages/pytorch_lightning/trainer/connectors/data_connector.py:425: The 'test_dataloader' does not have many workers which may be a bottleneck. Consider increasing the value of the `num_workers` argument` to `num_workers=13` in the `DataLoader` to improve performance.\n"
     ]
    },
    {
     "data": {
      "application/vnd.jupyter.widget-view+json": {
       "model_id": "76177d2913504920b42a31e8b7f7e035",
       "version_major": 2,
       "version_minor": 0
      },
      "text/plain": [
       "Testing: |          | 0/? [00:00<?, ?it/s]"
      ]
     },
     "metadata": {},
     "output_type": "display_data"
    },
    {
     "name": "stderr",
     "output_type": "stream",
     "text": [
      "Unsupported operator aten::max_pool1d encountered 2 time(s)\n",
      "Unsupported operator aten::max_pool1d encountered 2 time(s)\n",
      "Unsupported operator aten::max_pool1d encountered 2 time(s)\n",
      "Unsupported operator aten::max_pool1d encountered 2 time(s)\n",
      "Unsupported operator aten::max_pool1d encountered 2 time(s)\n",
      "Unsupported operator aten::max_pool1d encountered 2 time(s)\n",
      "Unsupported operator aten::max_pool1d encountered 2 time(s)\n",
      "Unsupported operator aten::max_pool1d encountered 2 time(s)\n",
      "Unsupported operator aten::max_pool1d encountered 2 time(s)\n",
      "Unsupported operator aten::max_pool1d encountered 2 time(s)\n",
      "Unsupported operator aten::max_pool1d encountered 2 time(s)\n",
      "Unsupported operator aten::max_pool1d encountered 2 time(s)\n",
      "Unsupported operator aten::max_pool1d encountered 2 time(s)\n",
      "Unsupported operator aten::max_pool1d encountered 2 time(s)\n",
      "Unsupported operator aten::max_pool1d encountered 2 time(s)\n",
      "Unsupported operator aten::max_pool1d encountered 2 time(s)\n",
      "Unsupported operator aten::max_pool1d encountered 2 time(s)\n",
      "Unsupported operator aten::max_pool1d encountered 2 time(s)\n",
      "Unsupported operator aten::max_pool1d encountered 2 time(s)\n",
      "Unsupported operator aten::max_pool1d encountered 2 time(s)\n",
      "Unsupported operator aten::max_pool1d encountered 2 time(s)\n",
      "Unsupported operator aten::max_pool1d encountered 2 time(s)\n",
      "Unsupported operator aten::max_pool1d encountered 2 time(s)\n",
      "Unsupported operator aten::max_pool1d encountered 2 time(s)\n",
      "Unsupported operator aten::max_pool1d encountered 2 time(s)\n",
      "Unsupported operator aten::max_pool1d encountered 2 time(s)\n"
     ]
    },
    {
     "name": "stdout",
     "output_type": "stream",
     "text": [
      "────────────────────────────────────────────────────────────────────────────────────────────────────────────────────────\n",
      "       Test metric             DataLoader 0\n",
      "────────────────────────────────────────────────────────────────────────────────────────────────────────────────────────\n",
      "          flops                  191792.0\n",
      "        test_acc            0.9368932247161865\n",
      "────────────────────────────────────────────────────────────────────────────────────────────────────────────────────────\n",
      "avg epoch time: 1.3579005532794528\n"
     ]
    }
   ],
   "source": [
    "groups_values = [1, 2, 4]\n",
    "flops = []\n",
    "params = []\n",
    "test_acc_stats = []\n",
    "epoch_time_stats = []\n",
    "\n",
    "for i, groups in enumerate(groups_values):\n",
    "    model = ClassifierModel(n_mels=40, num_classes=2, groups=groups, learning_rate=3e-4)\n",
    "    logger = TensorBoardLogger(save_dir=os.getcwd(), version=i, name=\"lightning_logs\")\n",
    "\n",
    "    trainer = pl.Trainer(\n",
    "        max_epochs=10,\n",
    "        accelerator=\"gpu\",\n",
    "        logger=logger\n",
    "    )\n",
    "\n",
    "    trainer.fit(model, train_loader, val_loader)\n",
    "    test_acc = trainer.test(dataloaders=test_loader)[0]['test_acc']\n",
    "    test_acc_stats.append(test_acc)\n",
    "\n",
    "    log_dir = logger.log_dir\n",
    "\n",
    "    ea = event_accumulator.EventAccumulator(log_dir)\n",
    "    ea.Reload()\n",
    "\n",
    "    avg_epoch_time = np.mean([event.value for event in ea.Scalars(\"epoch_time\")])\n",
    "    flops.append([event.value for event in ea.Scalars('flops')][0])\n",
    "    params.append(count_parameters(model))\n",
    "    epoch_time_stats.append(avg_epoch_time)\n",
    "\n",
    "    print(f\"avg epoch time: {avg_epoch_time}\")"
   ]
  },
  {
   "cell_type": "code",
   "execution_count": 109,
   "id": "e94a7ab2-0270-42e5-8685-a7b1b5f85edb",
   "metadata": {},
   "outputs": [
    {
     "data": {
      "image/png": "[encoded data removed]",
      "text/plain": [
       "<Figure size 1200x600 with 1 Axes>"
      ]
     },
     "metadata": {},
     "output_type": "display_data"
    }
   ],
   "source": [
    "plot_graph(x=groups_values, y=test_acc_stats, x_label=\"groups\", y_label=\"test_acc\")"
   ]
  },
  {
   "cell_type": "code",
   "execution_count": 110,
   "id": "aeb0a0b4-0303-47ec-b717-97b5c1dcdce8",
   "metadata": {},
   "outputs": [
    {
     "data": {
      "image/png": "[encoded data removed]",
      "text/plain": [
       "<Figure size 1200x600 with 1 Axes>"
      ]
     },
     "metadata": {},
     "output_type": "display_data"
    }
   ],
   "source": [
    "plot_graph(x=groups_values, y=flops, x_label=\"groups\", y_label=\"flops\")"
   ]
  },
  {
   "cell_type": "code",
   "execution_count": 111,
   "id": "b6db2d09-caa2-46c2-bada-efa1875d8cdb",
   "metadata": {},
   "outputs": [
    {
     "data": {
      "image/png": "[encoded data removed]",
      "text/plain": [
       "<Figure size 1200x600 with 1 Axes>"
      ]
     },
     "metadata": {},
     "output_type": "display_data"
    }
   ],
   "source": [
    "plot_graph(x=groups_values, y=params, x_label=\"groups\", y_label=\"params\")"
   ]
  },
  {
   "cell_type": "markdown",
   "id": "db75bf23-86ee-447b-8ae7-57ba8ad28b73",
   "metadata": {},
   "source": [
    "### Conclusions\n",
    "\n",
    "* The groups = 1 parameter, where inputs are convolved to all outputs gives the best accuracy on test\n",
    "* Increasing number of groups parameter directly correlated with number of flops, but number of parameters of the model is decreased"
   ]
  },
  {
   "cell_type": "code",
   "execution_count": null,
   "id": "0df70263-0ba9-4707-be39-1f50e51684e4",
   "metadata": {},
   "outputs": [],
   "source": []
  },
  {
   "cell_type": "code",
   "execution_count": null,
   "id": "7b8fb51f-a3d4-48cd-97d1-58fd9a17b54d",
   "metadata": {},
   "outputs": [],
   "source": []
  }
 ],
 "metadata": {
  "kernelspec": {
   "display_name": "Python 3 (ipykernel)",
   "language": "python",
   "name": "python3"
  },
  "language_info": {
   "codemirror_mode": {
    "name": "ipython",
    "version": 3
   },
   "file_extension": ".py",
   "mimetype": "text/x-python",
   "name": "python",
   "nbconvert_exporter": "python",
   "pygments_lexer": "ipython3",
   "version": "3.10.17"
  }
 },
 "nbformat": 4,
 "nbformat_minor": 5
}
